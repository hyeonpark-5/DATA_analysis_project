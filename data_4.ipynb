{
 "cells": [
  {
   "cell_type": "code",
   "execution_count": 1,
   "id": "d9efd02d",
   "metadata": {
    "scrolled": false
   },
   "outputs": [
    {
     "data": {
      "text/html": [
       "<div>\n",
       "<style scoped>\n",
       "    .dataframe tbody tr th:only-of-type {\n",
       "        vertical-align: middle;\n",
       "    }\n",
       "\n",
       "    .dataframe tbody tr th {\n",
       "        vertical-align: top;\n",
       "    }\n",
       "\n",
       "    .dataframe thead th {\n",
       "        text-align: right;\n",
       "    }\n",
       "</style>\n",
       "<table border=\"1\" class=\"dataframe\">\n",
       "  <thead>\n",
       "    <tr style=\"text-align: right;\">\n",
       "      <th></th>\n",
       "      <th>name</th>\n",
       "      <th>year</th>\n",
       "      <th>selling_price</th>\n",
       "      <th>km_driven</th>\n",
       "      <th>fuel</th>\n",
       "      <th>seller_type</th>\n",
       "      <th>transmission</th>\n",
       "      <th>owner</th>\n",
       "    </tr>\n",
       "  </thead>\n",
       "  <tbody>\n",
       "    <tr>\n",
       "      <th>0</th>\n",
       "      <td>Maruti 800 AC</td>\n",
       "      <td>2007</td>\n",
       "      <td>60000</td>\n",
       "      <td>70000</td>\n",
       "      <td>Petrol</td>\n",
       "      <td>Individual</td>\n",
       "      <td>Manual</td>\n",
       "      <td>First Owner</td>\n",
       "    </tr>\n",
       "    <tr>\n",
       "      <th>1</th>\n",
       "      <td>Maruti Wagon R LXI Minor</td>\n",
       "      <td>2007</td>\n",
       "      <td>135000</td>\n",
       "      <td>50000</td>\n",
       "      <td>Petrol</td>\n",
       "      <td>Individual</td>\n",
       "      <td>Manual</td>\n",
       "      <td>First Owner</td>\n",
       "    </tr>\n",
       "    <tr>\n",
       "      <th>2</th>\n",
       "      <td>Hyundai Verna 1.6 SX</td>\n",
       "      <td>2012</td>\n",
       "      <td>600000</td>\n",
       "      <td>100000</td>\n",
       "      <td>Diesel</td>\n",
       "      <td>Individual</td>\n",
       "      <td>Manual</td>\n",
       "      <td>First Owner</td>\n",
       "    </tr>\n",
       "    <tr>\n",
       "      <th>3</th>\n",
       "      <td>Datsun RediGO T Option</td>\n",
       "      <td>2017</td>\n",
       "      <td>250000</td>\n",
       "      <td>46000</td>\n",
       "      <td>Petrol</td>\n",
       "      <td>Individual</td>\n",
       "      <td>Manual</td>\n",
       "      <td>First Owner</td>\n",
       "    </tr>\n",
       "    <tr>\n",
       "      <th>4</th>\n",
       "      <td>Honda Amaze VX i-DTEC</td>\n",
       "      <td>2014</td>\n",
       "      <td>450000</td>\n",
       "      <td>141000</td>\n",
       "      <td>Diesel</td>\n",
       "      <td>Individual</td>\n",
       "      <td>Manual</td>\n",
       "      <td>Second Owner</td>\n",
       "    </tr>\n",
       "    <tr>\n",
       "      <th>...</th>\n",
       "      <td>...</td>\n",
       "      <td>...</td>\n",
       "      <td>...</td>\n",
       "      <td>...</td>\n",
       "      <td>...</td>\n",
       "      <td>...</td>\n",
       "      <td>...</td>\n",
       "      <td>...</td>\n",
       "    </tr>\n",
       "    <tr>\n",
       "      <th>4335</th>\n",
       "      <td>Hyundai i20 Magna 1.4 CRDi (Diesel)</td>\n",
       "      <td>2014</td>\n",
       "      <td>409999</td>\n",
       "      <td>80000</td>\n",
       "      <td>Diesel</td>\n",
       "      <td>Individual</td>\n",
       "      <td>Manual</td>\n",
       "      <td>Second Owner</td>\n",
       "    </tr>\n",
       "    <tr>\n",
       "      <th>4336</th>\n",
       "      <td>Hyundai i20 Magna 1.4 CRDi</td>\n",
       "      <td>2014</td>\n",
       "      <td>409999</td>\n",
       "      <td>80000</td>\n",
       "      <td>Diesel</td>\n",
       "      <td>Individual</td>\n",
       "      <td>Manual</td>\n",
       "      <td>Second Owner</td>\n",
       "    </tr>\n",
       "    <tr>\n",
       "      <th>4337</th>\n",
       "      <td>Maruti 800 AC BSIII</td>\n",
       "      <td>2009</td>\n",
       "      <td>110000</td>\n",
       "      <td>83000</td>\n",
       "      <td>Petrol</td>\n",
       "      <td>Individual</td>\n",
       "      <td>Manual</td>\n",
       "      <td>Second Owner</td>\n",
       "    </tr>\n",
       "    <tr>\n",
       "      <th>4338</th>\n",
       "      <td>Hyundai Creta 1.6 CRDi SX Option</td>\n",
       "      <td>2016</td>\n",
       "      <td>865000</td>\n",
       "      <td>90000</td>\n",
       "      <td>Diesel</td>\n",
       "      <td>Individual</td>\n",
       "      <td>Manual</td>\n",
       "      <td>First Owner</td>\n",
       "    </tr>\n",
       "    <tr>\n",
       "      <th>4339</th>\n",
       "      <td>Renault KWID RXT</td>\n",
       "      <td>2016</td>\n",
       "      <td>225000</td>\n",
       "      <td>40000</td>\n",
       "      <td>Petrol</td>\n",
       "      <td>Individual</td>\n",
       "      <td>Manual</td>\n",
       "      <td>First Owner</td>\n",
       "    </tr>\n",
       "  </tbody>\n",
       "</table>\n",
       "<p>4340 rows × 8 columns</p>\n",
       "</div>"
      ],
      "text/plain": [
       "                                     name  year  selling_price  km_driven  \\\n",
       "0                           Maruti 800 AC  2007          60000      70000   \n",
       "1                Maruti Wagon R LXI Minor  2007         135000      50000   \n",
       "2                    Hyundai Verna 1.6 SX  2012         600000     100000   \n",
       "3                  Datsun RediGO T Option  2017         250000      46000   \n",
       "4                   Honda Amaze VX i-DTEC  2014         450000     141000   \n",
       "...                                   ...   ...            ...        ...   \n",
       "4335  Hyundai i20 Magna 1.4 CRDi (Diesel)  2014         409999      80000   \n",
       "4336           Hyundai i20 Magna 1.4 CRDi  2014         409999      80000   \n",
       "4337                  Maruti 800 AC BSIII  2009         110000      83000   \n",
       "4338     Hyundai Creta 1.6 CRDi SX Option  2016         865000      90000   \n",
       "4339                     Renault KWID RXT  2016         225000      40000   \n",
       "\n",
       "        fuel seller_type transmission         owner  \n",
       "0     Petrol  Individual       Manual   First Owner  \n",
       "1     Petrol  Individual       Manual   First Owner  \n",
       "2     Diesel  Individual       Manual   First Owner  \n",
       "3     Petrol  Individual       Manual   First Owner  \n",
       "4     Diesel  Individual       Manual  Second Owner  \n",
       "...      ...         ...          ...           ...  \n",
       "4335  Diesel  Individual       Manual  Second Owner  \n",
       "4336  Diesel  Individual       Manual  Second Owner  \n",
       "4337  Petrol  Individual       Manual  Second Owner  \n",
       "4338  Diesel  Individual       Manual   First Owner  \n",
       "4339  Petrol  Individual       Manual   First Owner  \n",
       "\n",
       "[4340 rows x 8 columns]"
      ]
     },
     "execution_count": 1,
     "metadata": {},
     "output_type": "execute_result"
    }
   ],
   "source": [
    "import pandas as pd\n",
    "import matplotlib.pyplot as plt\n",
    "\n",
    "\n",
    "data = pd.read_csv(\"./CAR DETAILS FROM CAR DEKHO.csv\")\n",
    "data"
   ]
  },
  {
   "cell_type": "markdown",
   "id": "12b5031a",
   "metadata": {},
   "source": [
    "### 행과 열 개수 확인"
   ]
  },
  {
   "cell_type": "code",
   "execution_count": 2,
   "id": "f05f7d13",
   "metadata": {
    "scrolled": true
   },
   "outputs": [
    {
     "name": "stdout",
     "output_type": "stream",
     "text": [
      "data 행과 열의 개수: (4340, 8)\n",
      "Index(['name', 'year', 'selling_price', 'km_driven', 'fuel', 'seller_type',\n",
      "       'transmission', 'owner'],\n",
      "      dtype='object')\n"
     ]
    }
   ],
   "source": [
    "print(f\"data 행과 열의 개수: {data.shape}\")\n",
    "print(data.columns)\n"
   ]
  },
  {
   "cell_type": "markdown",
   "id": "decf7462",
   "metadata": {},
   "source": [
    "### 수치형 데이터 확인"
   ]
  },
  {
   "cell_type": "code",
   "execution_count": 3,
   "id": "5d2af21f",
   "metadata": {
    "scrolled": false
   },
   "outputs": [
    {
     "ename": "NameError",
     "evalue": "name 'int64' is not defined",
     "output_type": "error",
     "traceback": [
      "\u001b[1;31m---------------------------------------------------------------------------\u001b[0m",
      "\u001b[1;31mNameError\u001b[0m                                 Traceback (most recent call last)",
      "Cell \u001b[1;32mIn [3], line 1\u001b[0m\n\u001b[1;32m----> 1\u001b[0m data\u001b[38;5;241m.\u001b[39mselect_dtypes(\u001b[43mint64\u001b[49m)\u001b[38;5;241m.\u001b[39mcolumns\n",
      "\u001b[1;31mNameError\u001b[0m: name 'int64' is not defined"
     ]
    }
   ],
   "source": [
    "data.select_dtypes(int64).columns"
   ]
  },
  {
   "cell_type": "markdown",
   "id": "25aca02e",
   "metadata": {},
   "source": [
    "### 범주형 데이터 확인"
   ]
  },
  {
   "cell_type": "code",
   "execution_count": 4,
   "id": "2c58e1ba",
   "metadata": {
    "scrolled": true
   },
   "outputs": [
    {
     "data": {
      "text/plain": [
       "Index(['name', 'fuel', 'seller_type', 'transmission', 'owner'], dtype='object')"
      ]
     },
     "execution_count": 4,
     "metadata": {},
     "output_type": "execute_result"
    }
   ],
   "source": [
    "data.select_dtypes(object).columns"
   ]
  },
  {
   "cell_type": "code",
   "execution_count": 5,
   "id": "41679fc4",
   "metadata": {
    "scrolled": true
   },
   "outputs": [
    {
     "name": "stdout",
     "output_type": "stream",
     "text": [
      "5\n"
     ]
    }
   ],
   "source": [
    "print(len(data.select_dtypes(object).columns))"
   ]
  },
  {
   "cell_type": "markdown",
   "id": "cbd37dc2",
   "metadata": {},
   "source": [
    "# 결측치 확인\n",
    "----------------------------------------------"
   ]
  },
  {
   "cell_type": "code",
   "execution_count": 6,
   "id": "d4e807a5",
   "metadata": {
    "scrolled": true
   },
   "outputs": [
    {
     "name": "stdout",
     "output_type": "stream",
     "text": [
      "<class 'pandas.core.frame.DataFrame'>\n",
      "RangeIndex: 4340 entries, 0 to 4339\n",
      "Data columns (total 8 columns):\n",
      " #   Column         Non-Null Count  Dtype \n",
      "---  ------         --------------  ----- \n",
      " 0   name           4340 non-null   object\n",
      " 1   year           4340 non-null   int64 \n",
      " 2   selling_price  4340 non-null   int64 \n",
      " 3   km_driven      4340 non-null   int64 \n",
      " 4   fuel           4340 non-null   object\n",
      " 5   seller_type    4340 non-null   object\n",
      " 6   transmission   4340 non-null   object\n",
      " 7   owner          4340 non-null   object\n",
      "dtypes: int64(3), object(5)\n",
      "memory usage: 271.4+ KB\n"
     ]
    }
   ],
   "source": [
    "data.info() #결측값이 없음 #히스토그램 뽑아보기"
   ]
  },
  {
   "cell_type": "code",
   "execution_count": 7,
   "id": "55142d02",
   "metadata": {
    "scrolled": true
   },
   "outputs": [
    {
     "data": {
      "text/plain": [
       "name             0\n",
       "year             0\n",
       "selling_price    0\n",
       "km_driven        0\n",
       "fuel             0\n",
       "seller_type      0\n",
       "transmission     0\n",
       "owner            0\n",
       "dtype: int64"
      ]
     },
     "execution_count": 7,
     "metadata": {},
     "output_type": "execute_result"
    }
   ],
   "source": [
    "data.isnull().sum()"
   ]
  },
  {
   "cell_type": "code",
   "execution_count": 8,
   "id": "cbc416e3",
   "metadata": {},
   "outputs": [
    {
     "data": {
      "text/plain": [
       "name             4340\n",
       "year             4340\n",
       "selling_price    4340\n",
       "km_driven        4340\n",
       "fuel             4340\n",
       "seller_type      4340\n",
       "transmission     4340\n",
       "owner            4340\n",
       "dtype: int64"
      ]
     },
     "execution_count": 8,
     "metadata": {},
     "output_type": "execute_result"
    }
   ],
   "source": [
    "data.notnull().sum()"
   ]
  },
  {
   "cell_type": "markdown",
   "id": "6bd2a451",
   "metadata": {},
   "source": [
    "**int형 데이터 결측값 히스토그램**\n",
    " - int형 데이터의 결측값은 없다."
   ]
  },
  {
   "cell_type": "code",
   "execution_count": 9,
   "id": "9027f1f8",
   "metadata": {
    "scrolled": false
   },
   "outputs": [
    {
     "data": {
      "image/png": "[encoded data removed]",
      "text/plain": [
       "<Figure size 2000x1500 with 4 Axes>"
      ]
     },
     "metadata": {},
     "output_type": "display_data"
    }
   ],
   "source": [
    "%matplotlib inline\n",
    "\n",
    "data.hist(bins=50, figsize=(20,15))\n",
    "#save_fig(\"attribute_histogram_plots\")       #int형 데이터에 결측값 없음\n",
    "#plt.savefig('histogram_int.jpg')\n",
    "plt.show()"
   ]
  },
  {
   "cell_type": "markdown",
   "id": "6d6722b6",
   "metadata": {},
   "source": [
    "**objest(str)타입 데이터 결측갑 결과**\n",
    "   - 결측값이 없다."
   ]
  },
  {
   "cell_type": "code",
   "execution_count": 10,
   "id": "65b8c989",
   "metadata": {
    "scrolled": false
   },
   "outputs": [
    {
     "name": "stdout",
     "output_type": "stream",
     "text": [
      "Miss_name: 0\n",
      "Miss_fuel: 0\n",
      "Miss_seller_type: 0\n",
      "Miss_transmission: 0\n",
      "Miss_owner: 0\n"
     ]
    }
   ],
   "source": [
    "column_type_str = ['name','fuel','seller_type','transmission','owner']\n",
    "for i in column_type_str:\n",
    "    Miss = len(data.loc[data[i] == '0'])\n",
    "    print(f'Miss_{i}: {Miss}')"
   ]
  },
  {
   "cell_type": "code",
   "execution_count": 11,
   "id": "f76a44a1",
   "metadata": {
    "scrolled": true
   },
   "outputs": [
    {
     "name": "stdout",
     "output_type": "stream",
     "text": [
      "Miss_year: 0\n",
      "Miss_selling_price: 0\n"
     ]
    }
   ],
   "source": [
    "column_type_int = ['year','selling_price']\n",
    "for i in column_type_int:\n",
    "    Miss = len(data.loc[data[i] == 0])\n",
    "    print(f'Miss_{i}: {Miss}')"
   ]
  },
  {
   "cell_type": "markdown",
   "id": "baabf586",
   "metadata": {},
   "source": [
    "# 1번\n",
    "-------------------------------------------------"
   ]
  },
  {
   "cell_type": "code",
   "execution_count": 12,
   "id": "d55944c7",
   "metadata": {
    "scrolled": true
   },
   "outputs": [
    {
     "name": "stdout",
     "output_type": "stream",
     "text": [
      "3334    1992\n",
      "631     1995\n",
      "2972    1996\n",
      "61      1996\n",
      "1669    1997\n",
      "        ... \n",
      "2137    2020\n",
      "1432    2020\n",
      "1774    2020\n",
      "176     2020\n",
      "3933    2020\n",
      "Name: year, Length: 4340, dtype: int64\n"
     ]
    }
   ],
   "source": [
    "year_sort = data['year'].sort_values()  #년도를 정렬한 결과 1992년식부터 ~ 2020년식까지 있음\n",
    "print(year_sort)"
   ]
  },
  {
   "cell_type": "code",
   "execution_count": 13,
   "id": "1b497d9e",
   "metadata": {
    "scrolled": true
   },
   "outputs": [
    {
     "name": "stdout",
     "output_type": "stream",
     "text": [
      "1992년식 = 1 대\n",
      "1993년식 = 0 대\n",
      "1994년식 = 0 대\n",
      "1995년식 = 1 대\n",
      "1996년식 = 2 대\n",
      "1997년식 = 3 대\n",
      "1998년식 = 12 대\n",
      "1999년식 = 10 대\n",
      "2000년식 = 12 대\n",
      "2001년식 = 20 대\n",
      "2002년식 = 21 대\n",
      "2003년식 = 23 대\n",
      "2004년식 = 42 대\n",
      "2005년식 = 85 대\n",
      "2006년식 = 110 대\n",
      "2007년식 = 134 대\n",
      "2008년식 = 145 대\n",
      "2009년식 = 193 대\n",
      "2010년식 = 234 대\n",
      "2011년식 = 271 대\n",
      "2012년식 = 415 대\n",
      "2013년식 = 386 대\n",
      "2014년식 = 367 대\n",
      "2015년식 = 421 대\n",
      "2016년식 = 357 대\n",
      "2017년식 = 466 대\n",
      "2018년식 = 366 대\n",
      "2019년식 = 195 대\n",
      "2020년식 = 48 대\n",
      "총합 = 4340 대\n"
     ]
    }
   ],
   "source": [
    "i = 1992\n",
    "sum = 0\n",
    "\n",
    "while i < 2021:\n",
    "    result = len(data.loc[data['year'] == i])\n",
    "    print(f\"{i}년식 = {result} 대\")\n",
    "    sum += result\n",
    "    i+= 1\n",
    "\n",
    "print(f\"총합 = {sum} 대\")   #년도별 결과 , 총합 4340개로 column의 갯수와 맞음"
   ]
  },
  {
   "cell_type": "code",
   "execution_count": 14,
   "id": "860450ca",
   "metadata": {
    "scrolled": true
   },
   "outputs": [
    {
     "data": {
      "text/plain": [
       "year\n",
       "1992      1\n",
       "1995      1\n",
       "1996      2\n",
       "1997      3\n",
       "1998     12\n",
       "1999     10\n",
       "2000     12\n",
       "2001     20\n",
       "2002     21\n",
       "2003     23\n",
       "2004     42\n",
       "2005     85\n",
       "2006    110\n",
       "2007    134\n",
       "2008    145\n",
       "2009    193\n",
       "2010    234\n",
       "2011    271\n",
       "2012    415\n",
       "2013    386\n",
       "2014    367\n",
       "2015    421\n",
       "2016    357\n",
       "2017    466\n",
       "2018    366\n",
       "2019    195\n",
       "2020     48\n",
       "dtype: int64"
      ]
     },
     "execution_count": 14,
     "metadata": {},
     "output_type": "execute_result"
    }
   ],
   "source": [
    "groups = data.groupby('year')\n",
    "groups.size()"
   ]
  },
  {
   "cell_type": "code",
   "execution_count": 15,
   "id": "d18495b7",
   "metadata": {
    "scrolled": false
   },
   "outputs": [
    {
     "data": {
      "image/png": "[encoded data removed]",
      "text/plain": [
       "<Figure size 640x480 with 1 Axes>"
      ]
     },
     "metadata": {},
     "output_type": "display_data"
    }
   ],
   "source": [
    "data['year'].plot(kind='hist', bins = 29, color='orange',edgecolor='k',grid=True)\n",
    "plt.title('the number of cars by year')\n",
    "plt.ylabel('Number of car',size=10)\n",
    "plt.xlabel('year',size=10)\n",
    "plt.savefig('the number of cars by year.jpg')\n",
    "plt.show()"
   ]
  },
  {
   "cell_type": "code",
   "execution_count": 16,
   "id": "cc2c129e",
   "metadata": {
    "scrolled": false
   },
   "outputs": [],
   "source": [
    "#data['year'].value_counts().plot(kind='bar')"
   ]
  },
  {
   "cell_type": "markdown",
   "id": "f04eb675",
   "metadata": {},
   "source": [
    "# 2번"
   ]
  },
  {
   "cell_type": "code",
   "execution_count": 17,
   "id": "13307adf",
   "metadata": {
    "scrolled": true
   },
   "outputs": [
    {
     "name": "stdout",
     "output_type": "stream",
     "text": [
      "year\n",
      "1992    5.000000e+04\n",
      "1995    9.500000e+04\n",
      "1996    2.250000e+05\n",
      "1997    9.300000e+04\n",
      "1998    2.140000e+05\n",
      "1999    7.350000e+04\n",
      "2000    8.150000e+04\n",
      "2001    1.176499e+05\n",
      "2002    9.071429e+04\n",
      "2003    8.656522e+04\n",
      "2004    1.217500e+05\n",
      "2005    1.090130e+05\n",
      "2006    1.577999e+05\n",
      "2007    1.628284e+05\n",
      "2008    1.742013e+05\n",
      "2009    2.295647e+05\n",
      "2010    2.696781e+05\n",
      "2011    2.936383e+05\n",
      "2012    3.716289e+05\n",
      "2013    4.848010e+05\n",
      "2014    5.232316e+05\n",
      "2015    5.289430e+05\n",
      "2016    6.083641e+05\n",
      "2017    7.689098e+05\n",
      "2018    9.107705e+05\n",
      "2019    1.059020e+06\n",
      "2020    8.184791e+05\n",
      "Name: selling_price, dtype: float64\n"
     ]
    }
   ],
   "source": [
    "M_price = data.groupby(['year'])['selling_price'].mean()\n",
    "print(M_price)"
   ]
  },
  {
   "cell_type": "code",
   "execution_count": 18,
   "id": "88a41178",
   "metadata": {},
   "outputs": [
    {
     "data": {
      "image/png": "[encoded data removed]",
      "text/plain": [
       "<Figure size 640x480 with 1 Axes>"
      ]
     },
     "metadata": {},
     "output_type": "display_data"
    }
   ],
   "source": [
    "plt.title('the average selling_price by year')\n",
    "plt.ticklabel_format(style='plain')\n",
    "plt.xlabel('years')\n",
    "plt.ylabel('the average selling_price')\n",
    "plt.plot(M_price,color='blue',marker='o')\n",
    "plt.savefig('the average selling_price by year.jpg')"
   ]
  },
  {
   "cell_type": "markdown",
   "id": "8fc90a16",
   "metadata": {},
   "source": [
    "# 3번"
   ]
  },
  {
   "cell_type": "code",
   "execution_count": 19,
   "id": "9c95e563",
   "metadata": {
    "scrolled": true
   },
   "outputs": [
    {
     "data": {
      "text/html": [
       "<div>\n",
       "<style scoped>\n",
       "    .dataframe tbody tr th:only-of-type {\n",
       "        vertical-align: middle;\n",
       "    }\n",
       "\n",
       "    .dataframe tbody tr th {\n",
       "        vertical-align: top;\n",
       "    }\n",
       "\n",
       "    .dataframe thead th {\n",
       "        text-align: right;\n",
       "    }\n",
       "</style>\n",
       "<table border=\"1\" class=\"dataframe\">\n",
       "  <thead>\n",
       "    <tr style=\"text-align: right;\">\n",
       "      <th></th>\n",
       "      <th>name</th>\n",
       "      <th>year</th>\n",
       "      <th>selling_price</th>\n",
       "      <th>km_driven</th>\n",
       "      <th>fuel</th>\n",
       "      <th>seller_type</th>\n",
       "      <th>transmission</th>\n",
       "      <th>owner</th>\n",
       "      <th>brand</th>\n",
       "    </tr>\n",
       "  </thead>\n",
       "  <tbody>\n",
       "    <tr>\n",
       "      <th>0</th>\n",
       "      <td>Maruti 800 AC</td>\n",
       "      <td>2007</td>\n",
       "      <td>60000</td>\n",
       "      <td>70000</td>\n",
       "      <td>Petrol</td>\n",
       "      <td>Individual</td>\n",
       "      <td>Manual</td>\n",
       "      <td>First Owner</td>\n",
       "      <td>Maruti</td>\n",
       "    </tr>\n",
       "    <tr>\n",
       "      <th>1</th>\n",
       "      <td>Maruti Wagon R LXI Minor</td>\n",
       "      <td>2007</td>\n",
       "      <td>135000</td>\n",
       "      <td>50000</td>\n",
       "      <td>Petrol</td>\n",
       "      <td>Individual</td>\n",
       "      <td>Manual</td>\n",
       "      <td>First Owner</td>\n",
       "      <td>Maruti</td>\n",
       "    </tr>\n",
       "    <tr>\n",
       "      <th>2</th>\n",
       "      <td>Hyundai Verna 1.6 SX</td>\n",
       "      <td>2012</td>\n",
       "      <td>600000</td>\n",
       "      <td>100000</td>\n",
       "      <td>Diesel</td>\n",
       "      <td>Individual</td>\n",
       "      <td>Manual</td>\n",
       "      <td>First Owner</td>\n",
       "      <td>Hyundai</td>\n",
       "    </tr>\n",
       "    <tr>\n",
       "      <th>3</th>\n",
       "      <td>Datsun RediGO T Option</td>\n",
       "      <td>2017</td>\n",
       "      <td>250000</td>\n",
       "      <td>46000</td>\n",
       "      <td>Petrol</td>\n",
       "      <td>Individual</td>\n",
       "      <td>Manual</td>\n",
       "      <td>First Owner</td>\n",
       "      <td>Datsun</td>\n",
       "    </tr>\n",
       "    <tr>\n",
       "      <th>4</th>\n",
       "      <td>Honda Amaze VX i-DTEC</td>\n",
       "      <td>2014</td>\n",
       "      <td>450000</td>\n",
       "      <td>141000</td>\n",
       "      <td>Diesel</td>\n",
       "      <td>Individual</td>\n",
       "      <td>Manual</td>\n",
       "      <td>Second Owner</td>\n",
       "      <td>Honda</td>\n",
       "    </tr>\n",
       "    <tr>\n",
       "      <th>...</th>\n",
       "      <td>...</td>\n",
       "      <td>...</td>\n",
       "      <td>...</td>\n",
       "      <td>...</td>\n",
       "      <td>...</td>\n",
       "      <td>...</td>\n",
       "      <td>...</td>\n",
       "      <td>...</td>\n",
       "      <td>...</td>\n",
       "    </tr>\n",
       "    <tr>\n",
       "      <th>4335</th>\n",
       "      <td>Hyundai i20 Magna 1.4 CRDi (Diesel)</td>\n",
       "      <td>2014</td>\n",
       "      <td>409999</td>\n",
       "      <td>80000</td>\n",
       "      <td>Diesel</td>\n",
       "      <td>Individual</td>\n",
       "      <td>Manual</td>\n",
       "      <td>Second Owner</td>\n",
       "      <td>Hyundai</td>\n",
       "    </tr>\n",
       "    <tr>\n",
       "      <th>4336</th>\n",
       "      <td>Hyundai i20 Magna 1.4 CRDi</td>\n",
       "      <td>2014</td>\n",
       "      <td>409999</td>\n",
       "      <td>80000</td>\n",
       "      <td>Diesel</td>\n",
       "      <td>Individual</td>\n",
       "      <td>Manual</td>\n",
       "      <td>Second Owner</td>\n",
       "      <td>Hyundai</td>\n",
       "    </tr>\n",
       "    <tr>\n",
       "      <th>4337</th>\n",
       "      <td>Maruti 800 AC BSIII</td>\n",
       "      <td>2009</td>\n",
       "      <td>110000</td>\n",
       "      <td>83000</td>\n",
       "      <td>Petrol</td>\n",
       "      <td>Individual</td>\n",
       "      <td>Manual</td>\n",
       "      <td>Second Owner</td>\n",
       "      <td>Maruti</td>\n",
       "    </tr>\n",
       "    <tr>\n",
       "      <th>4338</th>\n",
       "      <td>Hyundai Creta 1.6 CRDi SX Option</td>\n",
       "      <td>2016</td>\n",
       "      <td>865000</td>\n",
       "      <td>90000</td>\n",
       "      <td>Diesel</td>\n",
       "      <td>Individual</td>\n",
       "      <td>Manual</td>\n",
       "      <td>First Owner</td>\n",
       "      <td>Hyundai</td>\n",
       "    </tr>\n",
       "    <tr>\n",
       "      <th>4339</th>\n",
       "      <td>Renault KWID RXT</td>\n",
       "      <td>2016</td>\n",
       "      <td>225000</td>\n",
       "      <td>40000</td>\n",
       "      <td>Petrol</td>\n",
       "      <td>Individual</td>\n",
       "      <td>Manual</td>\n",
       "      <td>First Owner</td>\n",
       "      <td>Renault</td>\n",
       "    </tr>\n",
       "  </tbody>\n",
       "</table>\n",
       "<p>4340 rows × 9 columns</p>\n",
       "</div>"
      ],
      "text/plain": [
       "                                     name  year  selling_price  km_driven  \\\n",
       "0                           Maruti 800 AC  2007          60000      70000   \n",
       "1                Maruti Wagon R LXI Minor  2007         135000      50000   \n",
       "2                    Hyundai Verna 1.6 SX  2012         600000     100000   \n",
       "3                  Datsun RediGO T Option  2017         250000      46000   \n",
       "4                   Honda Amaze VX i-DTEC  2014         450000     141000   \n",
       "...                                   ...   ...            ...        ...   \n",
       "4335  Hyundai i20 Magna 1.4 CRDi (Diesel)  2014         409999      80000   \n",
       "4336           Hyundai i20 Magna 1.4 CRDi  2014         409999      80000   \n",
       "4337                  Maruti 800 AC BSIII  2009         110000      83000   \n",
       "4338     Hyundai Creta 1.6 CRDi SX Option  2016         865000      90000   \n",
       "4339                     Renault KWID RXT  2016         225000      40000   \n",
       "\n",
       "        fuel seller_type transmission         owner    brand  \n",
       "0     Petrol  Individual       Manual   First Owner   Maruti  \n",
       "1     Petrol  Individual       Manual   First Owner   Maruti  \n",
       "2     Diesel  Individual       Manual   First Owner  Hyundai  \n",
       "3     Petrol  Individual       Manual   First Owner   Datsun  \n",
       "4     Diesel  Individual       Manual  Second Owner    Honda  \n",
       "...      ...         ...          ...           ...      ...  \n",
       "4335  Diesel  Individual       Manual  Second Owner  Hyundai  \n",
       "4336  Diesel  Individual       Manual  Second Owner  Hyundai  \n",
       "4337  Petrol  Individual       Manual  Second Owner   Maruti  \n",
       "4338  Diesel  Individual       Manual   First Owner  Hyundai  \n",
       "4339  Petrol  Individual       Manual   First Owner  Renault  \n",
       "\n",
       "[4340 rows x 9 columns]"
      ]
     },
     "execution_count": 19,
     "metadata": {},
     "output_type": "execute_result"
    }
   ],
   "source": [
    "#data['name'].str.split(\" \").head()\n",
    "data['brand']=data.name.str.split(' ').str[0]\n",
    "data"
   ]
  },
  {
   "cell_type": "code",
   "execution_count": 20,
   "id": "32e96c39",
   "metadata": {
    "scrolled": true
   },
   "outputs": [
    {
     "data": {
      "text/plain": [
       "0"
      ]
     },
     "execution_count": 20,
     "metadata": {},
     "output_type": "execute_result"
    }
   ],
   "source": [
    "#data.info() # brand 결측값이 없음\n",
    "data['brand'].isnull().sum()"
   ]
  },
  {
   "cell_type": "code",
   "execution_count": 21,
   "id": "372daaf9",
   "metadata": {},
   "outputs": [
    {
     "name": "stdout",
     "output_type": "stream",
     "text": [
      "Miss_brand: 0\n"
     ]
    }
   ],
   "source": [
    " Miss = len(data.loc[data['brand'] == '0'])\n",
    "print(f'Miss_brand: {Miss}')"
   ]
  },
  {
   "cell_type": "code",
   "execution_count": 22,
   "id": "60c96dc7",
   "metadata": {
    "scrolled": true
   },
   "outputs": [],
   "source": [
    "# groups_brand = data.groupby('brand')\n",
    "# groups_brand.size()"
   ]
  },
  {
   "cell_type": "code",
   "execution_count": 23,
   "id": "b25ed41a",
   "metadata": {
    "scrolled": true
   },
   "outputs": [],
   "source": [
    "# brand_count=data.groupby('brand').size()\n",
    "# print(brand_count)\n",
    "# print(brand_count.index)\n",
    "# brand_idx = brand_count.index.to_list()\n",
    "# print(brand_idx)\n",
    "# print(type(brand_idx))\n",
    "# brand_count=data.groupby('brand').size()\n",
    "# print(list(brand_count))"
   ]
  },
  {
   "cell_type": "code",
   "execution_count": 24,
   "id": "022f911d",
   "metadata": {
    "scrolled": true
   },
   "outputs": [
    {
     "name": "stdout",
     "output_type": "stream",
     "text": [
      "brand\n",
      "Maruti           1280\n",
      "Hyundai           821\n",
      "Mahindra          365\n",
      "Tata              361\n",
      "Honda             252\n",
      "Ford              238\n",
      "Toyota            206\n",
      "Chevrolet         188\n",
      "Renault           146\n",
      "Volkswagen        107\n",
      "Skoda              68\n",
      "Nissan             64\n",
      "Audi               60\n",
      "BMW                39\n",
      "Fiat               37\n",
      "Datsun             37\n",
      "Mercedes-Benz      35\n",
      "Mitsubishi          6\n",
      "Jaguar              6\n",
      "Land                5\n",
      "Ambassador          4\n",
      "Volvo               4\n",
      "Jeep                3\n",
      "OpelCorsa           2\n",
      "MG                  2\n",
      "Isuzu               1\n",
      "Force               1\n",
      "Daewoo              1\n",
      "Kia                 1\n",
      "dtype: int64\n",
      "Index(['Maruti', 'Hyundai', 'Mahindra', 'Tata', 'Honda', 'Ford', 'Toyota',\n",
      "       'Chevrolet', 'Renault', 'Volkswagen', 'Skoda', 'Nissan', 'Audi', 'BMW',\n",
      "       'Fiat', 'Datsun', 'Mercedes-Benz', 'Mitsubishi', 'Jaguar', 'Land',\n",
      "       'Ambassador', 'Volvo', 'Jeep', 'OpelCorsa', 'MG', 'Isuzu', 'Force',\n",
      "       'Daewoo', 'Kia'],\n",
      "      dtype='object', name='brand')\n"
     ]
    }
   ],
   "source": [
    "brand_count_sort=data.groupby('brand').size().sort_values(ascending=False)\n",
    "print(brand_count_sort)\n",
    "print(brand_count_sort.index)"
   ]
  },
  {
   "cell_type": "code",
   "execution_count": 25,
   "id": "69e0d434",
   "metadata": {
    "scrolled": true
   },
   "outputs": [],
   "source": [
    "brand_count_idx = brand_count_sort.index.to_list()\n",
    "brand_count_value = list(brand_count_sort)\n",
    "# print(brand_count_idx)\n",
    "# print(brand_count_value)"
   ]
  },
  {
   "cell_type": "code",
   "execution_count": 26,
   "id": "3db0da7c",
   "metadata": {
    "scrolled": false
   },
   "outputs": [
    {
     "data": {
      "image/png": "[encoded data removed]",
      "text/plain": [
       "<Figure size 640x480 with 1 Axes>"
      ]
     },
     "metadata": {},
     "output_type": "display_data"
    }
   ],
   "source": [
    "plt.bar(brand_count_idx,brand_count_value,width= 0.8)\n",
    "plt.xticks(rotation = 90)\n",
    "plt.grid()\n",
    "plt.show()"
   ]
  },
  {
   "cell_type": "code",
   "execution_count": 27,
   "id": "92f86ccb",
   "metadata": {
    "scrolled": true
   },
   "outputs": [],
   "source": [
    "# group_brand = data.groupby(['brand']).size().rename('count').to_frame()\n",
    "# #print(group_brand)\n",
    "# group_brand\n"
   ]
  },
  {
   "cell_type": "markdown",
   "id": "56c1054f",
   "metadata": {},
   "source": [
    "# 4번"
   ]
  },
  {
   "cell_type": "code",
   "execution_count": 28,
   "id": "b481c50e",
   "metadata": {
    "scrolled": true
   },
   "outputs": [
    {
     "name": "stdout",
     "output_type": "stream",
     "text": [
      "2662      20000\n",
      "2495      22000\n",
      "2444      30000\n",
      "3206      35000\n",
      "2849      35000\n",
      "         ...   \n",
      "1023    4950000\n",
      "2239    4950000\n",
      "3969    5500000\n",
      "89      8150000\n",
      "3872    8900000\n",
      "Name: selling_price, Length: 4340, dtype: int64\n"
     ]
    }
   ],
   "source": [
    "print(data['selling_price'].sort_values())"
   ]
  },
  {
   "cell_type": "markdown",
   "id": "0f7e96ea",
   "metadata": {},
   "source": [
    "### 범주형 데이터 처리"
   ]
  },
  {
   "cell_type": "code",
   "execution_count": 29,
   "id": "ca295ec5",
   "metadata": {},
   "outputs": [
    {
     "data": {
      "text/plain": [
       "Index(['name', 'fuel', 'seller_type', 'transmission', 'owner', 'brand'], dtype='object')"
      ]
     },
     "execution_count": 29,
     "metadata": {},
     "output_type": "execute_result"
    }
   ],
   "source": [
    "data.select_dtypes(object).columns"
   ]
  },
  {
   "cell_type": "markdown",
   "id": "85048956",
   "metadata": {},
   "source": [
    "#### (1) brand(name)"
   ]
  },
  {
   "cell_type": "code",
   "execution_count": 30,
   "id": "6e2f5ed7",
   "metadata": {
    "scrolled": false
   },
   "outputs": [
    {
     "name": "stdout",
     "output_type": "stream",
     "text": [
      "['Ambassador', 'Audi', 'BMW', 'Chevrolet', 'Daewoo', 'Datsun', 'Fiat', 'Force', 'Ford', 'Honda', 'Hyundai', 'Isuzu', 'Jaguar', 'Jeep', 'Kia', 'Land', 'MG', 'Mahindra', 'Maruti', 'Mercedes-Benz', 'Mitsubishi', 'Nissan', 'OpelCorsa', 'Renault', 'Skoda', 'Tata', 'Toyota', 'Volkswagen', 'Volvo']\n",
      "29\n"
     ]
    }
   ],
   "source": [
    "group_brandd = data.groupby('brand').size()\n",
    "brandd_idx = group_brandd.index.to_list()\n",
    "print(brandd_idx)\n",
    "print(len(brandd_idx))"
   ]
  },
  {
   "cell_type": "code",
   "execution_count": 31,
   "id": "2d59f16e",
   "metadata": {},
   "outputs": [
    {
     "name": "stdout",
     "output_type": "stream",
     "text": [
      "brand\n",
      "Ambassador          4\n",
      "Audi               60\n",
      "BMW                39\n",
      "Chevrolet         188\n",
      "Daewoo              1\n",
      "Datsun             37\n",
      "Fiat               37\n",
      "Force               1\n",
      "Ford              238\n",
      "Honda             252\n",
      "Hyundai           821\n",
      "Isuzu               1\n",
      "Jaguar              6\n",
      "Jeep                3\n",
      "Kia                 1\n",
      "Land                5\n",
      "MG                  2\n",
      "Mahindra          365\n",
      "Maruti           1280\n",
      "Mercedes-Benz      35\n",
      "Mitsubishi          6\n",
      "Nissan             64\n",
      "OpelCorsa           2\n",
      "Renault           146\n",
      "Skoda              68\n",
      "Tata              361\n",
      "Toyota            206\n",
      "Volkswagen        107\n",
      "Volvo               4\n",
      "dtype: int64\n"
     ]
    }
   ],
   "source": [
    "print(group_brandd)"
   ]
  },
  {
   "cell_type": "markdown",
   "id": "76285a9d",
   "metadata": {},
   "source": [
    "#### (2) fuel"
   ]
  },
  {
   "cell_type": "code",
   "execution_count": 32,
   "id": "082999d7",
   "metadata": {},
   "outputs": [
    {
     "name": "stdout",
     "output_type": "stream",
     "text": [
      "['CNG', 'Diesel', 'Electric', 'LPG', 'Petrol']\n",
      "5\n"
     ]
    }
   ],
   "source": [
    "group_fuel = data.groupby('fuel').size()\n",
    "fuel_idx = group_fuel.index.to_list()\n",
    "print(fuel_idx)\n",
    "print(len(fuel_idx))"
   ]
  },
  {
   "cell_type": "code",
   "execution_count": 33,
   "id": "ed463166",
   "metadata": {},
   "outputs": [
    {
     "name": "stdout",
     "output_type": "stream",
     "text": [
      "fuel\n",
      "CNG           40\n",
      "Diesel      2153\n",
      "Electric       1\n",
      "LPG           23\n",
      "Petrol      2123\n",
      "dtype: int64\n"
     ]
    }
   ],
   "source": [
    "print(group_fuel)"
   ]
  },
  {
   "cell_type": "markdown",
   "id": "ab2179bb",
   "metadata": {},
   "source": [
    "#### (3) seller_type"
   ]
  },
  {
   "cell_type": "code",
   "execution_count": 34,
   "id": "12af61c2",
   "metadata": {
    "scrolled": true
   },
   "outputs": [
    {
     "name": "stdout",
     "output_type": "stream",
     "text": [
      "['Dealer', 'Individual', 'Trustmark Dealer']\n",
      "3\n"
     ]
    }
   ],
   "source": [
    "group_seller_type = data.groupby('seller_type').size()\n",
    "seller_type_idx = group_seller_type.index.to_list()\n",
    "print(seller_type_idx)\n",
    "print(len(seller_type_idx))"
   ]
  },
  {
   "cell_type": "code",
   "execution_count": 35,
   "id": "fab6f661",
   "metadata": {},
   "outputs": [
    {
     "name": "stdout",
     "output_type": "stream",
     "text": [
      "seller_type\n",
      "Dealer               994\n",
      "Individual          3244\n",
      "Trustmark Dealer     102\n",
      "dtype: int64\n"
     ]
    }
   ],
   "source": [
    "print(group_seller_type)"
   ]
  },
  {
   "cell_type": "markdown",
   "id": "456fdefd",
   "metadata": {},
   "source": [
    "#### (4) transmission"
   ]
  },
  {
   "cell_type": "code",
   "execution_count": 36,
   "id": "1f23ed3a",
   "metadata": {
    "scrolled": true
   },
   "outputs": [
    {
     "name": "stdout",
     "output_type": "stream",
     "text": [
      "['Automatic', 'Manual']\n",
      "2\n"
     ]
    }
   ],
   "source": [
    "group_transmission = data.groupby('transmission').size()\n",
    "transmission_idx = group_transmission.index.to_list()\n",
    "print(transmission_idx)\n",
    "print(len(transmission_idx))"
   ]
  },
  {
   "cell_type": "code",
   "execution_count": 37,
   "id": "fdfb8963",
   "metadata": {
    "scrolled": true
   },
   "outputs": [
    {
     "name": "stdout",
     "output_type": "stream",
     "text": [
      "transmission\n",
      "Automatic     448\n",
      "Manual       3892\n",
      "dtype: int64\n"
     ]
    }
   ],
   "source": [
    "print(group_transmission)"
   ]
  },
  {
   "cell_type": "markdown",
   "id": "2a672d0a",
   "metadata": {},
   "source": [
    "#### (5) owner"
   ]
  },
  {
   "cell_type": "code",
   "execution_count": 38,
   "id": "301c5800",
   "metadata": {},
   "outputs": [
    {
     "name": "stdout",
     "output_type": "stream",
     "text": [
      "['First Owner', 'Fourth & Above Owner', 'Second Owner', 'Test Drive Car', 'Third Owner']\n",
      "5\n"
     ]
    }
   ],
   "source": [
    "group_owner = data.groupby('owner').size()\n",
    "owner_idx = group_owner.index.to_list()\n",
    "print(owner_idx)\n",
    "print(len(owner_idx))"
   ]
  },
  {
   "cell_type": "code",
   "execution_count": 39,
   "id": "fb34da72",
   "metadata": {},
   "outputs": [
    {
     "name": "stdout",
     "output_type": "stream",
     "text": [
      "owner\n",
      "First Owner             2832\n",
      "Fourth & Above Owner      81\n",
      "Second Owner            1106\n",
      "Test Drive Car            17\n",
      "Third Owner              304\n",
      "dtype: int64\n"
     ]
    }
   ],
   "source": [
    "print(group_owner)"
   ]
  },
  {
   "cell_type": "markdown",
   "id": "fe284edd",
   "metadata": {},
   "source": [
    "### 4 -1 name(brand)    [1~29]로 매핑"
   ]
  },
  {
   "cell_type": "code",
   "execution_count": 40,
   "id": "59911dd7",
   "metadata": {
    "scrolled": true
   },
   "outputs": [
    {
     "data": {
      "text/html": [
       "<div>\n",
       "<style scoped>\n",
       "    .dataframe tbody tr th:only-of-type {\n",
       "        vertical-align: middle;\n",
       "    }\n",
       "\n",
       "    .dataframe tbody tr th {\n",
       "        vertical-align: top;\n",
       "    }\n",
       "\n",
       "    .dataframe thead th {\n",
       "        text-align: right;\n",
       "    }\n",
       "</style>\n",
       "<table border=\"1\" class=\"dataframe\">\n",
       "  <thead>\n",
       "    <tr style=\"text-align: right;\">\n",
       "      <th></th>\n",
       "      <th>name</th>\n",
       "      <th>year</th>\n",
       "      <th>selling_price</th>\n",
       "      <th>km_driven</th>\n",
       "      <th>fuel</th>\n",
       "      <th>seller_type</th>\n",
       "      <th>transmission</th>\n",
       "      <th>owner</th>\n",
       "      <th>brand</th>\n",
       "    </tr>\n",
       "  </thead>\n",
       "  <tbody>\n",
       "    <tr>\n",
       "      <th>0</th>\n",
       "      <td>Maruti 800 AC</td>\n",
       "      <td>2007</td>\n",
       "      <td>60000</td>\n",
       "      <td>70000</td>\n",
       "      <td>Petrol</td>\n",
       "      <td>Individual</td>\n",
       "      <td>Manual</td>\n",
       "      <td>First Owner</td>\n",
       "      <td>19</td>\n",
       "    </tr>\n",
       "    <tr>\n",
       "      <th>1</th>\n",
       "      <td>Maruti Wagon R LXI Minor</td>\n",
       "      <td>2007</td>\n",
       "      <td>135000</td>\n",
       "      <td>50000</td>\n",
       "      <td>Petrol</td>\n",
       "      <td>Individual</td>\n",
       "      <td>Manual</td>\n",
       "      <td>First Owner</td>\n",
       "      <td>19</td>\n",
       "    </tr>\n",
       "    <tr>\n",
       "      <th>2</th>\n",
       "      <td>Hyundai Verna 1.6 SX</td>\n",
       "      <td>2012</td>\n",
       "      <td>600000</td>\n",
       "      <td>100000</td>\n",
       "      <td>Diesel</td>\n",
       "      <td>Individual</td>\n",
       "      <td>Manual</td>\n",
       "      <td>First Owner</td>\n",
       "      <td>11</td>\n",
       "    </tr>\n",
       "    <tr>\n",
       "      <th>3</th>\n",
       "      <td>Datsun RediGO T Option</td>\n",
       "      <td>2017</td>\n",
       "      <td>250000</td>\n",
       "      <td>46000</td>\n",
       "      <td>Petrol</td>\n",
       "      <td>Individual</td>\n",
       "      <td>Manual</td>\n",
       "      <td>First Owner</td>\n",
       "      <td>6</td>\n",
       "    </tr>\n",
       "    <tr>\n",
       "      <th>4</th>\n",
       "      <td>Honda Amaze VX i-DTEC</td>\n",
       "      <td>2014</td>\n",
       "      <td>450000</td>\n",
       "      <td>141000</td>\n",
       "      <td>Diesel</td>\n",
       "      <td>Individual</td>\n",
       "      <td>Manual</td>\n",
       "      <td>Second Owner</td>\n",
       "      <td>10</td>\n",
       "    </tr>\n",
       "    <tr>\n",
       "      <th>...</th>\n",
       "      <td>...</td>\n",
       "      <td>...</td>\n",
       "      <td>...</td>\n",
       "      <td>...</td>\n",
       "      <td>...</td>\n",
       "      <td>...</td>\n",
       "      <td>...</td>\n",
       "      <td>...</td>\n",
       "      <td>...</td>\n",
       "    </tr>\n",
       "    <tr>\n",
       "      <th>4335</th>\n",
       "      <td>Hyundai i20 Magna 1.4 CRDi (Diesel)</td>\n",
       "      <td>2014</td>\n",
       "      <td>409999</td>\n",
       "      <td>80000</td>\n",
       "      <td>Diesel</td>\n",
       "      <td>Individual</td>\n",
       "      <td>Manual</td>\n",
       "      <td>Second Owner</td>\n",
       "      <td>11</td>\n",
       "    </tr>\n",
       "    <tr>\n",
       "      <th>4336</th>\n",
       "      <td>Hyundai i20 Magna 1.4 CRDi</td>\n",
       "      <td>2014</td>\n",
       "      <td>409999</td>\n",
       "      <td>80000</td>\n",
       "      <td>Diesel</td>\n",
       "      <td>Individual</td>\n",
       "      <td>Manual</td>\n",
       "      <td>Second Owner</td>\n",
       "      <td>11</td>\n",
       "    </tr>\n",
       "    <tr>\n",
       "      <th>4337</th>\n",
       "      <td>Maruti 800 AC BSIII</td>\n",
       "      <td>2009</td>\n",
       "      <td>110000</td>\n",
       "      <td>83000</td>\n",
       "      <td>Petrol</td>\n",
       "      <td>Individual</td>\n",
       "      <td>Manual</td>\n",
       "      <td>Second Owner</td>\n",
       "      <td>19</td>\n",
       "    </tr>\n",
       "    <tr>\n",
       "      <th>4338</th>\n",
       "      <td>Hyundai Creta 1.6 CRDi SX Option</td>\n",
       "      <td>2016</td>\n",
       "      <td>865000</td>\n",
       "      <td>90000</td>\n",
       "      <td>Diesel</td>\n",
       "      <td>Individual</td>\n",
       "      <td>Manual</td>\n",
       "      <td>First Owner</td>\n",
       "      <td>11</td>\n",
       "    </tr>\n",
       "    <tr>\n",
       "      <th>4339</th>\n",
       "      <td>Renault KWID RXT</td>\n",
       "      <td>2016</td>\n",
       "      <td>225000</td>\n",
       "      <td>40000</td>\n",
       "      <td>Petrol</td>\n",
       "      <td>Individual</td>\n",
       "      <td>Manual</td>\n",
       "      <td>First Owner</td>\n",
       "      <td>24</td>\n",
       "    </tr>\n",
       "  </tbody>\n",
       "</table>\n",
       "<p>4340 rows × 9 columns</p>\n",
       "</div>"
      ],
      "text/plain": [
       "                                     name  year  selling_price  km_driven  \\\n",
       "0                           Maruti 800 AC  2007          60000      70000   \n",
       "1                Maruti Wagon R LXI Minor  2007         135000      50000   \n",
       "2                    Hyundai Verna 1.6 SX  2012         600000     100000   \n",
       "3                  Datsun RediGO T Option  2017         250000      46000   \n",
       "4                   Honda Amaze VX i-DTEC  2014         450000     141000   \n",
       "...                                   ...   ...            ...        ...   \n",
       "4335  Hyundai i20 Magna 1.4 CRDi (Diesel)  2014         409999      80000   \n",
       "4336           Hyundai i20 Magna 1.4 CRDi  2014         409999      80000   \n",
       "4337                  Maruti 800 AC BSIII  2009         110000      83000   \n",
       "4338     Hyundai Creta 1.6 CRDi SX Option  2016         865000      90000   \n",
       "4339                     Renault KWID RXT  2016         225000      40000   \n",
       "\n",
       "        fuel seller_type transmission         owner  brand  \n",
       "0     Petrol  Individual       Manual   First Owner     19  \n",
       "1     Petrol  Individual       Manual   First Owner     19  \n",
       "2     Diesel  Individual       Manual   First Owner     11  \n",
       "3     Petrol  Individual       Manual   First Owner      6  \n",
       "4     Diesel  Individual       Manual  Second Owner     10  \n",
       "...      ...         ...          ...           ...    ...  \n",
       "4335  Diesel  Individual       Manual  Second Owner     11  \n",
       "4336  Diesel  Individual       Manual  Second Owner     11  \n",
       "4337  Petrol  Individual       Manual  Second Owner     19  \n",
       "4338  Diesel  Individual       Manual   First Owner     11  \n",
       "4339  Petrol  Individual       Manual   First Owner     24  \n",
       "\n",
       "[4340 rows x 9 columns]"
      ]
     },
     "execution_count": 40,
     "metadata": {},
     "output_type": "execute_result"
    }
   ],
   "source": [
    "data = data.replace({'Ambassador':1, 'Audi':2, 'BMW':3, 'Chevrolet':4, 'Daewoo':5, 'Datsun':6, 'Fiat':7, 'Force':8, 'Ford':9, 'Honda':10, 'Hyundai':11, 'Isuzu':12, 'Jaguar':13, 'Jeep':14, 'Kia':15, 'Land':16, 'MG':17, 'Mahindra':18, 'Maruti':19, 'Mercedes-Benz':20, 'Mitsubishi':21, 'Nissan':22, 'OpelCorsa':23, 'Renault':24, 'Skoda':25, 'Tata':26, 'Toyota':27, 'Volkswagen':28, 'Volvo':29})\n",
    "data"
   ]
  },
  {
   "cell_type": "code",
   "execution_count": 41,
   "id": "8ed6f3d2",
   "metadata": {
    "scrolled": true
   },
   "outputs": [
    {
     "name": "stdout",
     "output_type": "stream",
     "text": [
      "brand\n",
      "1        4\n",
      "2       60\n",
      "3       39\n",
      "4      188\n",
      "5        1\n",
      "6       37\n",
      "7       37\n",
      "8        1\n",
      "9      238\n",
      "10     252\n",
      "11     821\n",
      "12       1\n",
      "13       6\n",
      "14       3\n",
      "15       1\n",
      "16       5\n",
      "17       2\n",
      "18     365\n",
      "19    1280\n",
      "20      35\n",
      "21       6\n",
      "22      64\n",
      "23       2\n",
      "24     146\n",
      "25      68\n",
      "26     361\n",
      "27     206\n",
      "28     107\n",
      "29       4\n",
      "dtype: int64\n"
     ]
    }
   ],
   "source": [
    "group_brand_change = data.groupby('brand').size()\n",
    "print(group_brand_change)"
   ]
  },
  {
   "cell_type": "markdown",
   "id": "ca2c2d09",
   "metadata": {},
   "source": [
    "### 4-2 fuel [50~54]매핑"
   ]
  },
  {
   "cell_type": "code",
   "execution_count": 42,
   "id": "48f72dc5",
   "metadata": {
    "scrolled": true
   },
   "outputs": [
    {
     "data": {
      "text/html": [
       "<div>\n",
       "<style scoped>\n",
       "    .dataframe tbody tr th:only-of-type {\n",
       "        vertical-align: middle;\n",
       "    }\n",
       "\n",
       "    .dataframe tbody tr th {\n",
       "        vertical-align: top;\n",
       "    }\n",
       "\n",
       "    .dataframe thead th {\n",
       "        text-align: right;\n",
       "    }\n",
       "</style>\n",
       "<table border=\"1\" class=\"dataframe\">\n",
       "  <thead>\n",
       "    <tr style=\"text-align: right;\">\n",
       "      <th></th>\n",
       "      <th>name</th>\n",
       "      <th>year</th>\n",
       "      <th>selling_price</th>\n",
       "      <th>km_driven</th>\n",
       "      <th>fuel</th>\n",
       "      <th>seller_type</th>\n",
       "      <th>transmission</th>\n",
       "      <th>owner</th>\n",
       "      <th>brand</th>\n",
       "    </tr>\n",
       "  </thead>\n",
       "  <tbody>\n",
       "    <tr>\n",
       "      <th>0</th>\n",
       "      <td>Maruti 800 AC</td>\n",
       "      <td>2007</td>\n",
       "      <td>60000</td>\n",
       "      <td>70000</td>\n",
       "      <td>54</td>\n",
       "      <td>Individual</td>\n",
       "      <td>Manual</td>\n",
       "      <td>First Owner</td>\n",
       "      <td>19</td>\n",
       "    </tr>\n",
       "    <tr>\n",
       "      <th>1</th>\n",
       "      <td>Maruti Wagon R LXI Minor</td>\n",
       "      <td>2007</td>\n",
       "      <td>135000</td>\n",
       "      <td>50000</td>\n",
       "      <td>54</td>\n",
       "      <td>Individual</td>\n",
       "      <td>Manual</td>\n",
       "      <td>First Owner</td>\n",
       "      <td>19</td>\n",
       "    </tr>\n",
       "    <tr>\n",
       "      <th>2</th>\n",
       "      <td>Hyundai Verna 1.6 SX</td>\n",
       "      <td>2012</td>\n",
       "      <td>600000</td>\n",
       "      <td>100000</td>\n",
       "      <td>51</td>\n",
       "      <td>Individual</td>\n",
       "      <td>Manual</td>\n",
       "      <td>First Owner</td>\n",
       "      <td>11</td>\n",
       "    </tr>\n",
       "    <tr>\n",
       "      <th>3</th>\n",
       "      <td>Datsun RediGO T Option</td>\n",
       "      <td>2017</td>\n",
       "      <td>250000</td>\n",
       "      <td>46000</td>\n",
       "      <td>54</td>\n",
       "      <td>Individual</td>\n",
       "      <td>Manual</td>\n",
       "      <td>First Owner</td>\n",
       "      <td>6</td>\n",
       "    </tr>\n",
       "    <tr>\n",
       "      <th>4</th>\n",
       "      <td>Honda Amaze VX i-DTEC</td>\n",
       "      <td>2014</td>\n",
       "      <td>450000</td>\n",
       "      <td>141000</td>\n",
       "      <td>51</td>\n",
       "      <td>Individual</td>\n",
       "      <td>Manual</td>\n",
       "      <td>Second Owner</td>\n",
       "      <td>10</td>\n",
       "    </tr>\n",
       "    <tr>\n",
       "      <th>...</th>\n",
       "      <td>...</td>\n",
       "      <td>...</td>\n",
       "      <td>...</td>\n",
       "      <td>...</td>\n",
       "      <td>...</td>\n",
       "      <td>...</td>\n",
       "      <td>...</td>\n",
       "      <td>...</td>\n",
       "      <td>...</td>\n",
       "    </tr>\n",
       "    <tr>\n",
       "      <th>4335</th>\n",
       "      <td>Hyundai i20 Magna 1.4 CRDi (Diesel)</td>\n",
       "      <td>2014</td>\n",
       "      <td>409999</td>\n",
       "      <td>80000</td>\n",
       "      <td>51</td>\n",
       "      <td>Individual</td>\n",
       "      <td>Manual</td>\n",
       "      <td>Second Owner</td>\n",
       "      <td>11</td>\n",
       "    </tr>\n",
       "    <tr>\n",
       "      <th>4336</th>\n",
       "      <td>Hyundai i20 Magna 1.4 CRDi</td>\n",
       "      <td>2014</td>\n",
       "      <td>409999</td>\n",
       "      <td>80000</td>\n",
       "      <td>51</td>\n",
       "      <td>Individual</td>\n",
       "      <td>Manual</td>\n",
       "      <td>Second Owner</td>\n",
       "      <td>11</td>\n",
       "    </tr>\n",
       "    <tr>\n",
       "      <th>4337</th>\n",
       "      <td>Maruti 800 AC BSIII</td>\n",
       "      <td>2009</td>\n",
       "      <td>110000</td>\n",
       "      <td>83000</td>\n",
       "      <td>54</td>\n",
       "      <td>Individual</td>\n",
       "      <td>Manual</td>\n",
       "      <td>Second Owner</td>\n",
       "      <td>19</td>\n",
       "    </tr>\n",
       "    <tr>\n",
       "      <th>4338</th>\n",
       "      <td>Hyundai Creta 1.6 CRDi SX Option</td>\n",
       "      <td>2016</td>\n",
       "      <td>865000</td>\n",
       "      <td>90000</td>\n",
       "      <td>51</td>\n",
       "      <td>Individual</td>\n",
       "      <td>Manual</td>\n",
       "      <td>First Owner</td>\n",
       "      <td>11</td>\n",
       "    </tr>\n",
       "    <tr>\n",
       "      <th>4339</th>\n",
       "      <td>Renault KWID RXT</td>\n",
       "      <td>2016</td>\n",
       "      <td>225000</td>\n",
       "      <td>40000</td>\n",
       "      <td>54</td>\n",
       "      <td>Individual</td>\n",
       "      <td>Manual</td>\n",
       "      <td>First Owner</td>\n",
       "      <td>24</td>\n",
       "    </tr>\n",
       "  </tbody>\n",
       "</table>\n",
       "<p>4340 rows × 9 columns</p>\n",
       "</div>"
      ],
      "text/plain": [
       "                                     name  year  selling_price  km_driven  \\\n",
       "0                           Maruti 800 AC  2007          60000      70000   \n",
       "1                Maruti Wagon R LXI Minor  2007         135000      50000   \n",
       "2                    Hyundai Verna 1.6 SX  2012         600000     100000   \n",
       "3                  Datsun RediGO T Option  2017         250000      46000   \n",
       "4                   Honda Amaze VX i-DTEC  2014         450000     141000   \n",
       "...                                   ...   ...            ...        ...   \n",
       "4335  Hyundai i20 Magna 1.4 CRDi (Diesel)  2014         409999      80000   \n",
       "4336           Hyundai i20 Magna 1.4 CRDi  2014         409999      80000   \n",
       "4337                  Maruti 800 AC BSIII  2009         110000      83000   \n",
       "4338     Hyundai Creta 1.6 CRDi SX Option  2016         865000      90000   \n",
       "4339                     Renault KWID RXT  2016         225000      40000   \n",
       "\n",
       "      fuel seller_type transmission         owner  brand  \n",
       "0       54  Individual       Manual   First Owner     19  \n",
       "1       54  Individual       Manual   First Owner     19  \n",
       "2       51  Individual       Manual   First Owner     11  \n",
       "3       54  Individual       Manual   First Owner      6  \n",
       "4       51  Individual       Manual  Second Owner     10  \n",
       "...    ...         ...          ...           ...    ...  \n",
       "4335    51  Individual       Manual  Second Owner     11  \n",
       "4336    51  Individual       Manual  Second Owner     11  \n",
       "4337    54  Individual       Manual  Second Owner     19  \n",
       "4338    51  Individual       Manual   First Owner     11  \n",
       "4339    54  Individual       Manual   First Owner     24  \n",
       "\n",
       "[4340 rows x 9 columns]"
      ]
     },
     "execution_count": 42,
     "metadata": {},
     "output_type": "execute_result"
    }
   ],
   "source": [
    "data = data.replace({'CNG':50, 'Diesel':51, 'Electric':52, 'LPG':53, 'Petrol':54})\n",
    "data"
   ]
  },
  {
   "cell_type": "code",
   "execution_count": 43,
   "id": "af427e02",
   "metadata": {
    "scrolled": true
   },
   "outputs": [
    {
     "name": "stdout",
     "output_type": "stream",
     "text": [
      "fuel\n",
      "50      40\n",
      "51    2153\n",
      "52       1\n",
      "53      23\n",
      "54    2123\n",
      "dtype: int64\n"
     ]
    }
   ],
   "source": [
    "group_fuel_change = data.groupby('fuel').size()\n",
    "print(group_fuel_change)"
   ]
  },
  {
   "cell_type": "markdown",
   "id": "f29e8965",
   "metadata": {},
   "source": [
    "### 4-3 seller_type [60~62] 메핑"
   ]
  },
  {
   "cell_type": "code",
   "execution_count": 44,
   "id": "2a461bfc",
   "metadata": {
    "scrolled": true
   },
   "outputs": [
    {
     "data": {
      "text/html": [
       "<div>\n",
       "<style scoped>\n",
       "    .dataframe tbody tr th:only-of-type {\n",
       "        vertical-align: middle;\n",
       "    }\n",
       "\n",
       "    .dataframe tbody tr th {\n",
       "        vertical-align: top;\n",
       "    }\n",
       "\n",
       "    .dataframe thead th {\n",
       "        text-align: right;\n",
       "    }\n",
       "</style>\n",
       "<table border=\"1\" class=\"dataframe\">\n",
       "  <thead>\n",
       "    <tr style=\"text-align: right;\">\n",
       "      <th></th>\n",
       "      <th>name</th>\n",
       "      <th>year</th>\n",
       "      <th>selling_price</th>\n",
       "      <th>km_driven</th>\n",
       "      <th>fuel</th>\n",
       "      <th>seller_type</th>\n",
       "      <th>transmission</th>\n",
       "      <th>owner</th>\n",
       "      <th>brand</th>\n",
       "    </tr>\n",
       "  </thead>\n",
       "  <tbody>\n",
       "    <tr>\n",
       "      <th>0</th>\n",
       "      <td>Maruti 800 AC</td>\n",
       "      <td>2007</td>\n",
       "      <td>60000</td>\n",
       "      <td>70000</td>\n",
       "      <td>54</td>\n",
       "      <td>61</td>\n",
       "      <td>Manual</td>\n",
       "      <td>First Owner</td>\n",
       "      <td>19</td>\n",
       "    </tr>\n",
       "    <tr>\n",
       "      <th>1</th>\n",
       "      <td>Maruti Wagon R LXI Minor</td>\n",
       "      <td>2007</td>\n",
       "      <td>135000</td>\n",
       "      <td>50000</td>\n",
       "      <td>54</td>\n",
       "      <td>61</td>\n",
       "      <td>Manual</td>\n",
       "      <td>First Owner</td>\n",
       "      <td>19</td>\n",
       "    </tr>\n",
       "    <tr>\n",
       "      <th>2</th>\n",
       "      <td>Hyundai Verna 1.6 SX</td>\n",
       "      <td>2012</td>\n",
       "      <td>600000</td>\n",
       "      <td>100000</td>\n",
       "      <td>51</td>\n",
       "      <td>61</td>\n",
       "      <td>Manual</td>\n",
       "      <td>First Owner</td>\n",
       "      <td>11</td>\n",
       "    </tr>\n",
       "    <tr>\n",
       "      <th>3</th>\n",
       "      <td>Datsun RediGO T Option</td>\n",
       "      <td>2017</td>\n",
       "      <td>250000</td>\n",
       "      <td>46000</td>\n",
       "      <td>54</td>\n",
       "      <td>61</td>\n",
       "      <td>Manual</td>\n",
       "      <td>First Owner</td>\n",
       "      <td>6</td>\n",
       "    </tr>\n",
       "    <tr>\n",
       "      <th>4</th>\n",
       "      <td>Honda Amaze VX i-DTEC</td>\n",
       "      <td>2014</td>\n",
       "      <td>450000</td>\n",
       "      <td>141000</td>\n",
       "      <td>51</td>\n",
       "      <td>61</td>\n",
       "      <td>Manual</td>\n",
       "      <td>Second Owner</td>\n",
       "      <td>10</td>\n",
       "    </tr>\n",
       "    <tr>\n",
       "      <th>...</th>\n",
       "      <td>...</td>\n",
       "      <td>...</td>\n",
       "      <td>...</td>\n",
       "      <td>...</td>\n",
       "      <td>...</td>\n",
       "      <td>...</td>\n",
       "      <td>...</td>\n",
       "      <td>...</td>\n",
       "      <td>...</td>\n",
       "    </tr>\n",
       "    <tr>\n",
       "      <th>4335</th>\n",
       "      <td>Hyundai i20 Magna 1.4 CRDi (Diesel)</td>\n",
       "      <td>2014</td>\n",
       "      <td>409999</td>\n",
       "      <td>80000</td>\n",
       "      <td>51</td>\n",
       "      <td>61</td>\n",
       "      <td>Manual</td>\n",
       "      <td>Second Owner</td>\n",
       "      <td>11</td>\n",
       "    </tr>\n",
       "    <tr>\n",
       "      <th>4336</th>\n",
       "      <td>Hyundai i20 Magna 1.4 CRDi</td>\n",
       "      <td>2014</td>\n",
       "      <td>409999</td>\n",
       "      <td>80000</td>\n",
       "      <td>51</td>\n",
       "      <td>61</td>\n",
       "      <td>Manual</td>\n",
       "      <td>Second Owner</td>\n",
       "      <td>11</td>\n",
       "    </tr>\n",
       "    <tr>\n",
       "      <th>4337</th>\n",
       "      <td>Maruti 800 AC BSIII</td>\n",
       "      <td>2009</td>\n",
       "      <td>110000</td>\n",
       "      <td>83000</td>\n",
       "      <td>54</td>\n",
       "      <td>61</td>\n",
       "      <td>Manual</td>\n",
       "      <td>Second Owner</td>\n",
       "      <td>19</td>\n",
       "    </tr>\n",
       "    <tr>\n",
       "      <th>4338</th>\n",
       "      <td>Hyundai Creta 1.6 CRDi SX Option</td>\n",
       "      <td>2016</td>\n",
       "      <td>865000</td>\n",
       "      <td>90000</td>\n",
       "      <td>51</td>\n",
       "      <td>61</td>\n",
       "      <td>Manual</td>\n",
       "      <td>First Owner</td>\n",
       "      <td>11</td>\n",
       "    </tr>\n",
       "    <tr>\n",
       "      <th>4339</th>\n",
       "      <td>Renault KWID RXT</td>\n",
       "      <td>2016</td>\n",
       "      <td>225000</td>\n",
       "      <td>40000</td>\n",
       "      <td>54</td>\n",
       "      <td>61</td>\n",
       "      <td>Manual</td>\n",
       "      <td>First Owner</td>\n",
       "      <td>24</td>\n",
       "    </tr>\n",
       "  </tbody>\n",
       "</table>\n",
       "<p>4340 rows × 9 columns</p>\n",
       "</div>"
      ],
      "text/plain": [
       "                                     name  year  selling_price  km_driven  \\\n",
       "0                           Maruti 800 AC  2007          60000      70000   \n",
       "1                Maruti Wagon R LXI Minor  2007         135000      50000   \n",
       "2                    Hyundai Verna 1.6 SX  2012         600000     100000   \n",
       "3                  Datsun RediGO T Option  2017         250000      46000   \n",
       "4                   Honda Amaze VX i-DTEC  2014         450000     141000   \n",
       "...                                   ...   ...            ...        ...   \n",
       "4335  Hyundai i20 Magna 1.4 CRDi (Diesel)  2014         409999      80000   \n",
       "4336           Hyundai i20 Magna 1.4 CRDi  2014         409999      80000   \n",
       "4337                  Maruti 800 AC BSIII  2009         110000      83000   \n",
       "4338     Hyundai Creta 1.6 CRDi SX Option  2016         865000      90000   \n",
       "4339                     Renault KWID RXT  2016         225000      40000   \n",
       "\n",
       "      fuel  seller_type transmission         owner  brand  \n",
       "0       54           61       Manual   First Owner     19  \n",
       "1       54           61       Manual   First Owner     19  \n",
       "2       51           61       Manual   First Owner     11  \n",
       "3       54           61       Manual   First Owner      6  \n",
       "4       51           61       Manual  Second Owner     10  \n",
       "...    ...          ...          ...           ...    ...  \n",
       "4335    51           61       Manual  Second Owner     11  \n",
       "4336    51           61       Manual  Second Owner     11  \n",
       "4337    54           61       Manual  Second Owner     19  \n",
       "4338    51           61       Manual   First Owner     11  \n",
       "4339    54           61       Manual   First Owner     24  \n",
       "\n",
       "[4340 rows x 9 columns]"
      ]
     },
     "execution_count": 44,
     "metadata": {},
     "output_type": "execute_result"
    }
   ],
   "source": [
    "data = data.replace({'Dealer':60, 'Individual':61, 'Trustmark Dealer':62})\n",
    "data"
   ]
  },
  {
   "cell_type": "code",
   "execution_count": 45,
   "id": "2200caea",
   "metadata": {
    "scrolled": true
   },
   "outputs": [
    {
     "name": "stdout",
     "output_type": "stream",
     "text": [
      "seller_type\n",
      "60     994\n",
      "61    3244\n",
      "62     102\n",
      "dtype: int64\n"
     ]
    }
   ],
   "source": [
    "group_seller_type_change = data.groupby('seller_type').size()\n",
    "print(group_seller_type_change)"
   ]
  },
  {
   "cell_type": "markdown",
   "id": "c4b02039",
   "metadata": {},
   "source": [
    "### 4-4 transmission [70~71]매핑"
   ]
  },
  {
   "cell_type": "code",
   "execution_count": 40,
   "id": "e92eca90",
   "metadata": {},
   "outputs": [],
   "source": [
    "# %matplotlib inline\n",
    "\n",
    "# plt.ticklabel_format(style='plain')\n",
    "# plt.scatter(data['selling_price'],data['km_driven'])\n",
    "# plt.xlabel('selling_price')\n",
    "# plt.ylabel('km_driven')\n",
    "# plt.grid()\n",
    "# plt.show()"
   ]
  },
  {
   "cell_type": "code",
   "execution_count": 63,
   "id": "1efc4822",
   "metadata": {
    "scrolled": true
   },
   "outputs": [
    {
     "name": "stdout",
     "output_type": "stream",
     "text": [
      "fuel\n",
      "CNG           40\n",
      "Diesel      2153\n",
      "Electric       1\n",
      "LPG           23\n",
      "Petrol      2123\n",
      "dtype: int64\n"
     ]
    }
   ],
   "source": [
    "group_fuel = data.groupby('fuel').size()\n",
    "print(group_fuel)"
   ]
  },
  {
   "cell_type": "code",
   "execution_count": 64,
   "id": "2c24bd8f",
   "metadata": {},
   "outputs": [
    {
     "name": "stdout",
     "output_type": "stream",
     "text": [
      "['CNG', 'Diesel', 'Electric', 'LPG', 'Petrol']\n"
     ]
    }
   ],
   "source": [
    "fuel_idx = group_fuel.index.to_list()\n",
    "print(fuel_idx)"
   ]
  },
  {
   "cell_type": "code",
   "execution_count": 55,
   "id": "c1875810",
   "metadata": {
    "scrolled": true
   },
   "outputs": [
    {
     "data": {
      "text/html": [
       "<div>\n",
       "<style scoped>\n",
       "    .dataframe tbody tr th:only-of-type {\n",
       "        vertical-align: middle;\n",
       "    }\n",
       "\n",
       "    .dataframe tbody tr th {\n",
       "        vertical-align: top;\n",
       "    }\n",
       "\n",
       "    .dataframe thead th {\n",
       "        text-align: right;\n",
       "    }\n",
       "</style>\n",
       "<table border=\"1\" class=\"dataframe\">\n",
       "  <thead>\n",
       "    <tr style=\"text-align: right;\">\n",
       "      <th></th>\n",
       "      <th>name</th>\n",
       "      <th>year</th>\n",
       "      <th>selling_price</th>\n",
       "      <th>km_driven</th>\n",
       "      <th>fuel</th>\n",
       "      <th>seller_type</th>\n",
       "      <th>transmission</th>\n",
       "      <th>owner</th>\n",
       "      <th>brand</th>\n",
       "    </tr>\n",
       "  </thead>\n",
       "  <tbody>\n",
       "    <tr>\n",
       "      <th>0</th>\n",
       "      <td>Maruti 800 AC</td>\n",
       "      <td>2007</td>\n",
       "      <td>60000</td>\n",
       "      <td>70000</td>\n",
       "      <td>5</td>\n",
       "      <td>Individual</td>\n",
       "      <td>Manual</td>\n",
       "      <td>First Owner</td>\n",
       "      <td>Maruti</td>\n",
       "    </tr>\n",
       "    <tr>\n",
       "      <th>1</th>\n",
       "      <td>Maruti Wagon R LXI Minor</td>\n",
       "      <td>2007</td>\n",
       "      <td>135000</td>\n",
       "      <td>50000</td>\n",
       "      <td>5</td>\n",
       "      <td>Individual</td>\n",
       "      <td>Manual</td>\n",
       "      <td>First Owner</td>\n",
       "      <td>Maruti</td>\n",
       "    </tr>\n",
       "    <tr>\n",
       "      <th>2</th>\n",
       "      <td>Hyundai Verna 1.6 SX</td>\n",
       "      <td>2012</td>\n",
       "      <td>600000</td>\n",
       "      <td>100000</td>\n",
       "      <td>2</td>\n",
       "      <td>Individual</td>\n",
       "      <td>Manual</td>\n",
       "      <td>First Owner</td>\n",
       "      <td>Hyundai</td>\n",
       "    </tr>\n",
       "    <tr>\n",
       "      <th>3</th>\n",
       "      <td>Datsun RediGO T Option</td>\n",
       "      <td>2017</td>\n",
       "      <td>250000</td>\n",
       "      <td>46000</td>\n",
       "      <td>5</td>\n",
       "      <td>Individual</td>\n",
       "      <td>Manual</td>\n",
       "      <td>First Owner</td>\n",
       "      <td>Datsun</td>\n",
       "    </tr>\n",
       "    <tr>\n",
       "      <th>4</th>\n",
       "      <td>Honda Amaze VX i-DTEC</td>\n",
       "      <td>2014</td>\n",
       "      <td>450000</td>\n",
       "      <td>141000</td>\n",
       "      <td>2</td>\n",
       "      <td>Individual</td>\n",
       "      <td>Manual</td>\n",
       "      <td>Second Owner</td>\n",
       "      <td>Honda</td>\n",
       "    </tr>\n",
       "    <tr>\n",
       "      <th>...</th>\n",
       "      <td>...</td>\n",
       "      <td>...</td>\n",
       "      <td>...</td>\n",
       "      <td>...</td>\n",
       "      <td>...</td>\n",
       "      <td>...</td>\n",
       "      <td>...</td>\n",
       "      <td>...</td>\n",
       "      <td>...</td>\n",
       "    </tr>\n",
       "    <tr>\n",
       "      <th>4335</th>\n",
       "      <td>Hyundai i20 Magna 1.4 CRDi (Diesel)</td>\n",
       "      <td>2014</td>\n",
       "      <td>409999</td>\n",
       "      <td>80000</td>\n",
       "      <td>2</td>\n",
       "      <td>Individual</td>\n",
       "      <td>Manual</td>\n",
       "      <td>Second Owner</td>\n",
       "      <td>Hyundai</td>\n",
       "    </tr>\n",
       "    <tr>\n",
       "      <th>4336</th>\n",
       "      <td>Hyundai i20 Magna 1.4 CRDi</td>\n",
       "      <td>2014</td>\n",
       "      <td>409999</td>\n",
       "      <td>80000</td>\n",
       "      <td>2</td>\n",
       "      <td>Individual</td>\n",
       "      <td>Manual</td>\n",
       "      <td>Second Owner</td>\n",
       "      <td>Hyundai</td>\n",
       "    </tr>\n",
       "    <tr>\n",
       "      <th>4337</th>\n",
       "      <td>Maruti 800 AC BSIII</td>\n",
       "      <td>2009</td>\n",
       "      <td>110000</td>\n",
       "      <td>83000</td>\n",
       "      <td>5</td>\n",
       "      <td>Individual</td>\n",
       "      <td>Manual</td>\n",
       "      <td>Second Owner</td>\n",
       "      <td>Maruti</td>\n",
       "    </tr>\n",
       "    <tr>\n",
       "      <th>4338</th>\n",
       "      <td>Hyundai Creta 1.6 CRDi SX Option</td>\n",
       "      <td>2016</td>\n",
       "      <td>865000</td>\n",
       "      <td>90000</td>\n",
       "      <td>2</td>\n",
       "      <td>Individual</td>\n",
       "      <td>Manual</td>\n",
       "      <td>First Owner</td>\n",
       "      <td>Hyundai</td>\n",
       "    </tr>\n",
       "    <tr>\n",
       "      <th>4339</th>\n",
       "      <td>Renault KWID RXT</td>\n",
       "      <td>2016</td>\n",
       "      <td>225000</td>\n",
       "      <td>40000</td>\n",
       "      <td>5</td>\n",
       "      <td>Individual</td>\n",
       "      <td>Manual</td>\n",
       "      <td>First Owner</td>\n",
       "      <td>Renault</td>\n",
       "    </tr>\n",
       "  </tbody>\n",
       "</table>\n",
       "<p>4340 rows × 9 columns</p>\n",
       "</div>"
      ],
      "text/plain": [
       "                                     name  year  selling_price  km_driven  \\\n",
       "0                           Maruti 800 AC  2007          60000      70000   \n",
       "1                Maruti Wagon R LXI Minor  2007         135000      50000   \n",
       "2                    Hyundai Verna 1.6 SX  2012         600000     100000   \n",
       "3                  Datsun RediGO T Option  2017         250000      46000   \n",
       "4                   Honda Amaze VX i-DTEC  2014         450000     141000   \n",
       "...                                   ...   ...            ...        ...   \n",
       "4335  Hyundai i20 Magna 1.4 CRDi (Diesel)  2014         409999      80000   \n",
       "4336           Hyundai i20 Magna 1.4 CRDi  2014         409999      80000   \n",
       "4337                  Maruti 800 AC BSIII  2009         110000      83000   \n",
       "4338     Hyundai Creta 1.6 CRDi SX Option  2016         865000      90000   \n",
       "4339                     Renault KWID RXT  2016         225000      40000   \n",
       "\n",
       "      fuel seller_type transmission         owner    brand  \n",
       "0        5  Individual       Manual   First Owner   Maruti  \n",
       "1        5  Individual       Manual   First Owner   Maruti  \n",
       "2        2  Individual       Manual   First Owner  Hyundai  \n",
       "3        5  Individual       Manual   First Owner   Datsun  \n",
       "4        2  Individual       Manual  Second Owner    Honda  \n",
       "...    ...         ...          ...           ...      ...  \n",
       "4335     2  Individual       Manual  Second Owner  Hyundai  \n",
       "4336     2  Individual       Manual  Second Owner  Hyundai  \n",
       "4337     5  Individual       Manual  Second Owner   Maruti  \n",
       "4338     2  Individual       Manual   First Owner  Hyundai  \n",
       "4339     5  Individual       Manual   First Owner  Renault  \n",
       "\n",
       "[4340 rows x 9 columns]"
      ]
     },
     "execution_count": 55,
     "metadata": {},
     "output_type": "execute_result"
    }
   ],
   "source": [
    "# data = data.replace({'CNG': 1, 'Diesel':2, 'Electric':3, 'LPG':4, 'Petrol':5})\n",
    "# data"
   ]
  },
  {
   "cell_type": "code",
   "execution_count": 56,
   "id": "ac69c4d0",
   "metadata": {},
   "outputs": [
    {
     "name": "stdout",
     "output_type": "stream",
     "text": [
      "fuel\n",
      "1      40\n",
      "2    2153\n",
      "3       1\n",
      "4      23\n",
      "5    2123\n",
      "dtype: int64\n"
     ]
    }
   ],
   "source": [
    "# group_fuel_change = data.groupby('fuel').size()\n",
    "# print(group_fuel_change)"
   ]
  },
  {
   "cell_type": "code",
   "execution_count": 30,
   "id": "792468b5",
   "metadata": {},
   "outputs": [
    {
     "data": {
      "image/png": "[encoded data removed]",
      "text/plain": [
       "<Figure size 640x480 with 1 Axes>"
      ]
     },
     "metadata": {},
     "output_type": "display_data"
    }
   ],
   "source": [
    "%matplotlib inline\n",
    "\n",
    "plt.ticklabel_format(style='plain')\n",
    "plt.scatter(data['selling_price'],data['fuel'])\n",
    "plt.xlabel('selling_price')\n",
    "plt.ylabel('fuel')\n",
    "plt.grid()\n",
    "plt.show()"
   ]
  },
  {
   "cell_type": "code",
   "execution_count": null,
   "id": "65245f52",
   "metadata": {},
   "outputs": [],
   "source": [
    "#"
   ]
  }
 ],
 "metadata": {
  "kernelspec": {
   "display_name": "Python 3 (ipykernel)",
   "language": "python",
   "name": "python3"
  },
  "language_info": {
   "codemirror_mode": {
    "name": "ipython",
    "version": 3
   },
   "file_extension": ".py",
   "mimetype": "text/x-python",
   "name": "python",
   "nbconvert_exporter": "python",
   "pygments_lexer": "ipython3",
   "version": "3.9.12"
  }
 },
 "nbformat": 4,
 "nbformat_minor": 5
}

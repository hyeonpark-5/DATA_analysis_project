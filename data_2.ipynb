{
 "cells": [
  {
   "cell_type": "code",
   "execution_count": 19,
   "id": "c13372c0",
   "metadata": {
    "scrolled": false
   },
   "outputs": [
    {
     "data": {
      "text/html": [
       "<div>\n",
       "<style scoped>\n",
       "    .dataframe tbody tr th:only-of-type {\n",
       "        vertical-align: middle;\n",
       "    }\n",
       "\n",
       "    .dataframe tbody tr th {\n",
       "        vertical-align: top;\n",
       "    }\n",
       "\n",
       "    .dataframe thead th {\n",
       "        text-align: right;\n",
       "    }\n",
       "</style>\n",
       "<table border=\"1\" class=\"dataframe\">\n",
       "  <thead>\n",
       "    <tr style=\"text-align: right;\">\n",
       "      <th></th>\n",
       "      <th>name</th>\n",
       "      <th>year</th>\n",
       "      <th>selling_price</th>\n",
       "      <th>km_driven</th>\n",
       "      <th>fuel</th>\n",
       "      <th>seller_type</th>\n",
       "      <th>transmission</th>\n",
       "      <th>owner</th>\n",
       "    </tr>\n",
       "  </thead>\n",
       "  <tbody>\n",
       "    <tr>\n",
       "      <th>0</th>\n",
       "      <td>Maruti 800 AC</td>\n",
       "      <td>2007</td>\n",
       "      <td>60000</td>\n",
       "      <td>70000</td>\n",
       "      <td>Petrol</td>\n",
       "      <td>Individual</td>\n",
       "      <td>Manual</td>\n",
       "      <td>First Owner</td>\n",
       "    </tr>\n",
       "    <tr>\n",
       "      <th>1</th>\n",
       "      <td>Maruti Wagon R LXI Minor</td>\n",
       "      <td>2007</td>\n",
       "      <td>135000</td>\n",
       "      <td>50000</td>\n",
       "      <td>Petrol</td>\n",
       "      <td>Individual</td>\n",
       "      <td>Manual</td>\n",
       "      <td>First Owner</td>\n",
       "    </tr>\n",
       "    <tr>\n",
       "      <th>2</th>\n",
       "      <td>Hyundai Verna 1.6 SX</td>\n",
       "      <td>2012</td>\n",
       "      <td>600000</td>\n",
       "      <td>100000</td>\n",
       "      <td>Diesel</td>\n",
       "      <td>Individual</td>\n",
       "      <td>Manual</td>\n",
       "      <td>First Owner</td>\n",
       "    </tr>\n",
       "    <tr>\n",
       "      <th>3</th>\n",
       "      <td>Datsun RediGO T Option</td>\n",
       "      <td>2017</td>\n",
       "      <td>250000</td>\n",
       "      <td>46000</td>\n",
       "      <td>Petrol</td>\n",
       "      <td>Individual</td>\n",
       "      <td>Manual</td>\n",
       "      <td>First Owner</td>\n",
       "    </tr>\n",
       "    <tr>\n",
       "      <th>4</th>\n",
       "      <td>Honda Amaze VX i-DTEC</td>\n",
       "      <td>2014</td>\n",
       "      <td>450000</td>\n",
       "      <td>141000</td>\n",
       "      <td>Diesel</td>\n",
       "      <td>Individual</td>\n",
       "      <td>Manual</td>\n",
       "      <td>Second Owner</td>\n",
       "    </tr>\n",
       "    <tr>\n",
       "      <th>...</th>\n",
       "      <td>...</td>\n",
       "      <td>...</td>\n",
       "      <td>...</td>\n",
       "      <td>...</td>\n",
       "      <td>...</td>\n",
       "      <td>...</td>\n",
       "      <td>...</td>\n",
       "      <td>...</td>\n",
       "    </tr>\n",
       "    <tr>\n",
       "      <th>4335</th>\n",
       "      <td>Hyundai i20 Magna 1.4 CRDi (Diesel)</td>\n",
       "      <td>2014</td>\n",
       "      <td>409999</td>\n",
       "      <td>80000</td>\n",
       "      <td>Diesel</td>\n",
       "      <td>Individual</td>\n",
       "      <td>Manual</td>\n",
       "      <td>Second Owner</td>\n",
       "    </tr>\n",
       "    <tr>\n",
       "      <th>4336</th>\n",
       "      <td>Hyundai i20 Magna 1.4 CRDi</td>\n",
       "      <td>2014</td>\n",
       "      <td>409999</td>\n",
       "      <td>80000</td>\n",
       "      <td>Diesel</td>\n",
       "      <td>Individual</td>\n",
       "      <td>Manual</td>\n",
       "      <td>Second Owner</td>\n",
       "    </tr>\n",
       "    <tr>\n",
       "      <th>4337</th>\n",
       "      <td>Maruti 800 AC BSIII</td>\n",
       "      <td>2009</td>\n",
       "      <td>110000</td>\n",
       "      <td>83000</td>\n",
       "      <td>Petrol</td>\n",
       "      <td>Individual</td>\n",
       "      <td>Manual</td>\n",
       "      <td>Second Owner</td>\n",
       "    </tr>\n",
       "    <tr>\n",
       "      <th>4338</th>\n",
       "      <td>Hyundai Creta 1.6 CRDi SX Option</td>\n",
       "      <td>2016</td>\n",
       "      <td>865000</td>\n",
       "      <td>90000</td>\n",
       "      <td>Diesel</td>\n",
       "      <td>Individual</td>\n",
       "      <td>Manual</td>\n",
       "      <td>First Owner</td>\n",
       "    </tr>\n",
       "    <tr>\n",
       "      <th>4339</th>\n",
       "      <td>Renault KWID RXT</td>\n",
       "      <td>2016</td>\n",
       "      <td>225000</td>\n",
       "      <td>40000</td>\n",
       "      <td>Petrol</td>\n",
       "      <td>Individual</td>\n",
       "      <td>Manual</td>\n",
       "      <td>First Owner</td>\n",
       "    </tr>\n",
       "  </tbody>\n",
       "</table>\n",
       "<p>4340 rows × 8 columns</p>\n",
       "</div>"
      ],
      "text/plain": [
       "                                     name  year  selling_price  km_driven  \\\n",
       "0                           Maruti 800 AC  2007          60000      70000   \n",
       "1                Maruti Wagon R LXI Minor  2007         135000      50000   \n",
       "2                    Hyundai Verna 1.6 SX  2012         600000     100000   \n",
       "3                  Datsun RediGO T Option  2017         250000      46000   \n",
       "4                   Honda Amaze VX i-DTEC  2014         450000     141000   \n",
       "...                                   ...   ...            ...        ...   \n",
       "4335  Hyundai i20 Magna 1.4 CRDi (Diesel)  2014         409999      80000   \n",
       "4336           Hyundai i20 Magna 1.4 CRDi  2014         409999      80000   \n",
       "4337                  Maruti 800 AC BSIII  2009         110000      83000   \n",
       "4338     Hyundai Creta 1.6 CRDi SX Option  2016         865000      90000   \n",
       "4339                     Renault KWID RXT  2016         225000      40000   \n",
       "\n",
       "        fuel seller_type transmission         owner  \n",
       "0     Petrol  Individual       Manual   First Owner  \n",
       "1     Petrol  Individual       Manual   First Owner  \n",
       "2     Diesel  Individual       Manual   First Owner  \n",
       "3     Petrol  Individual       Manual   First Owner  \n",
       "4     Diesel  Individual       Manual  Second Owner  \n",
       "...      ...         ...          ...           ...  \n",
       "4335  Diesel  Individual       Manual  Second Owner  \n",
       "4336  Diesel  Individual       Manual  Second Owner  \n",
       "4337  Petrol  Individual       Manual  Second Owner  \n",
       "4338  Diesel  Individual       Manual   First Owner  \n",
       "4339  Petrol  Individual       Manual   First Owner  \n",
       "\n",
       "[4340 rows x 8 columns]"
      ]
     },
     "execution_count": 19,
     "metadata": {},
     "output_type": "execute_result"
    }
   ],
   "source": [
    "import pandas as pd\n",
    "import matplotlib.pyplot as plt\n",
    "\n",
    "data = pd.read_csv(\"./CAR DETAILS FROM CAR DEKHO.csv\")\n",
    "data"
   ]
  },
  {
   "cell_type": "code",
   "execution_count": 20,
   "id": "d4e807a5",
   "metadata": {
    "scrolled": false
   },
   "outputs": [
    {
     "name": "stdout",
     "output_type": "stream",
     "text": [
      "<class 'pandas.core.frame.DataFrame'>\n",
      "RangeIndex: 4340 entries, 0 to 4339\n",
      "Data columns (total 8 columns):\n",
      " #   Column         Non-Null Count  Dtype \n",
      "---  ------         --------------  ----- \n",
      " 0   name           4340 non-null   object\n",
      " 1   year           4340 non-null   int64 \n",
      " 2   selling_price  4340 non-null   int64 \n",
      " 3   km_driven      4340 non-null   int64 \n",
      " 4   fuel           4340 non-null   object\n",
      " 5   seller_type    4340 non-null   object\n",
      " 6   transmission   4340 non-null   object\n",
      " 7   owner          4340 non-null   object\n",
      "dtypes: int64(3), object(5)\n",
      "memory usage: 271.4+ KB\n"
     ]
    }
   ],
   "source": [
    "data.info() #결측값이 없음"
   ]
  },
  {
   "cell_type": "code",
   "execution_count": 21,
   "id": "d55944c7",
   "metadata": {
    "scrolled": true
   },
   "outputs": [
    {
     "name": "stdout",
     "output_type": "stream",
     "text": [
      "3334    1992\n",
      "631     1995\n",
      "2972    1996\n",
      "61      1996\n",
      "1669    1997\n",
      "        ... \n",
      "2137    2020\n",
      "1432    2020\n",
      "1774    2020\n",
      "176     2020\n",
      "3933    2020\n",
      "Name: year, Length: 4340, dtype: int64\n"
     ]
    }
   ],
   "source": [
    "year_sort = data['year'].sort_values()  #년도를 정렬한 결과 1992년식부터 ~ 2020년식까지 있음\n",
    "print(year_sort)"
   ]
  },
  {
   "cell_type": "code",
   "execution_count": 22,
   "id": "1b497d9e",
   "metadata": {
    "scrolled": true
   },
   "outputs": [
    {
     "name": "stdout",
     "output_type": "stream",
     "text": [
      "1992년식 = 1 대\n",
      "1993년식 = 0 대\n",
      "1994년식 = 0 대\n",
      "1995년식 = 1 대\n",
      "1996년식 = 2 대\n",
      "1997년식 = 3 대\n",
      "1998년식 = 12 대\n",
      "1999년식 = 10 대\n",
      "2000년식 = 12 대\n",
      "2001년식 = 20 대\n",
      "2002년식 = 21 대\n",
      "2003년식 = 23 대\n",
      "2004년식 = 42 대\n",
      "2005년식 = 85 대\n",
      "2006년식 = 110 대\n",
      "2007년식 = 134 대\n",
      "2008년식 = 145 대\n",
      "2009년식 = 193 대\n",
      "2010년식 = 234 대\n",
      "2011년식 = 271 대\n",
      "2012년식 = 415 대\n",
      "2013년식 = 386 대\n",
      "2014년식 = 367 대\n",
      "2015년식 = 421 대\n",
      "2016년식 = 357 대\n",
      "2017년식 = 466 대\n",
      "2018년식 = 366 대\n",
      "2019년식 = 195 대\n",
      "2020년식 = 48 대\n",
      "총합 = 4340 대\n"
     ]
    }
   ],
   "source": [
    "i = 1992\n",
    "sum = 0\n",
    "while i < 2021:\n",
    "    result = len(data.loc[data['year'] == i])\n",
    "    print(f\"{i}년식 = {result} 대\")\n",
    "    sum += result\n",
    "    i+= 1\n",
    "\n",
    "print(f\"총합 = {sum} 대\")   #년도별 결과 , 총합 4340개로 column의 갯수와 맞음"
   ]
  },
  {
   "cell_type": "code",
   "execution_count": 23,
   "id": "7dc7e28c",
   "metadata": {
    "scrolled": true
   },
   "outputs": [
    {
     "name": "stdout",
     "output_type": "stream",
     "text": [
      "year\n",
      "1992        50000\n",
      "1995        95000\n",
      "1996       450000\n",
      "1997       279000\n",
      "1998      2568000\n",
      "1999       735000\n",
      "2000       978000\n",
      "2001      2352998\n",
      "2002      1905000\n",
      "2003      1991000\n",
      "2004      5113499\n",
      "2005      9266107\n",
      "2006     17357994\n",
      "2007     21818999\n",
      "2008     25259193\n",
      "2009     44305994\n",
      "2010     63104682\n",
      "2011     79575988\n",
      "2012    154225974\n",
      "2013    187133191\n",
      "2014    192025984\n",
      "2015    222684984\n",
      "2016    217185981\n",
      "2017    358311985\n",
      "2018    333341988\n",
      "2019    206508994\n",
      "2020     39286998\n",
      "Name: selling_price, dtype: int64\n"
     ]
    }
   ],
   "source": [
    "sum_price = data.groupby(['year'])['selling_price'].sum()\n",
    "\n",
    "print(sum_price)"
   ]
  },
  {
   "cell_type": "code",
   "execution_count": 24,
   "id": "13307adf",
   "metadata": {
    "scrolled": false
   },
   "outputs": [
    {
     "name": "stdout",
     "output_type": "stream",
     "text": [
      "year\n",
      "1992    5.000000e+04\n",
      "1995    9.500000e+04\n",
      "1996    2.250000e+05\n",
      "1997    9.300000e+04\n",
      "1998    2.140000e+05\n",
      "1999    7.350000e+04\n",
      "2000    8.150000e+04\n",
      "2001    1.176499e+05\n",
      "2002    9.071429e+04\n",
      "2003    8.656522e+04\n",
      "2004    1.217500e+05\n",
      "2005    1.090130e+05\n",
      "2006    1.577999e+05\n",
      "2007    1.628284e+05\n",
      "2008    1.742013e+05\n",
      "2009    2.295647e+05\n",
      "2010    2.696781e+05\n",
      "2011    2.936383e+05\n",
      "2012    3.716289e+05\n",
      "2013    4.848010e+05\n",
      "2014    5.232316e+05\n",
      "2015    5.289430e+05\n",
      "2016    6.083641e+05\n",
      "2017    7.689098e+05\n",
      "2018    9.107705e+05\n",
      "2019    1.059020e+06\n",
      "2020    8.184791e+05\n",
      "Name: selling_price, dtype: float64\n"
     ]
    }
   ],
   "source": [
    "M_price = data.groupby(['year'])['selling_price'].mean()\n",
    "print(M_price)"
   ]
  },
  {
   "cell_type": "code",
   "execution_count": 26,
   "id": "88a41178",
   "metadata": {
    "scrolled": true
   },
   "outputs": [
    {
     "data": {
      "text/plain": [
       "[<matplotlib.lines.Line2D at 0x1537c7abf40>]"
      ]
     },
     "execution_count": 26,
     "metadata": {},
     "output_type": "execute_result"
    },
    {
     "data": {
      "image/png": "[encoded data removed]",
      "text/plain": [
       "<Figure size 640x480 with 1 Axes>"
      ]
     },
     "metadata": {},
     "output_type": "display_data"
    }
   ],
   "source": [
    "plt.title('year mean')\n",
    "plt.plot(M_price)"
   ]
  },
  {
   "cell_type": "code",
   "execution_count": 16,
   "id": "9c95e563",
   "metadata": {
    "scrolled": true
   },
   "outputs": [
    {
     "data": {
      "text/plain": [
       "0                 [Maruti, 800, AC]\n",
       "1    [Maruti, Wagon, R, LXI, Minor]\n",
       "2         [Hyundai, Verna, 1.6, SX]\n",
       "3       [Datsun, RediGO, T, Option]\n",
       "4        [Honda, Amaze, VX, i-DTEC]\n",
       "Name: name, dtype: object"
      ]
     },
     "execution_count": 16,
     "metadata": {},
     "output_type": "execute_result"
    }
   ],
   "source": [
    "data['name'].str.split(\" \").head()"
   ]
  },
  {
   "cell_type": "code",
   "execution_count": null,
   "id": "32e96c39",
   "metadata": {},
   "outputs": [],
   "source": []
  }
 ],
 "metadata": {
  "kernelspec": {
   "display_name": "Python 3 (ipykernel)",
   "language": "python",
   "name": "python3"
  },
  "language_info": {
   "codemirror_mode": {
    "name": "ipython",
    "version": 3
   },
   "file_extension": ".py",
   "mimetype": "text/x-python",
   "name": "python",
   "nbconvert_exporter": "python",
   "pygments_lexer": "ipython3",
   "version": "3.9.12"
  }
 },
 "nbformat": 4,
 "nbformat_minor": 5
}
